{
 "cells": [
  {
   "cell_type": "markdown",
   "id": "bf0503da",
   "metadata": {},
   "source": [
    "### Python Basics"
   ]
  },
  {
   "cell_type": "markdown",
   "id": "ba0105ef",
   "metadata": {},
   "source": [
    "#### Simple Print Statement"
   ]
  },
  {
   "cell_type": "code",
   "execution_count": 1,
   "id": "c5a4a7c6",
   "metadata": {},
   "outputs": [
    {
     "name": "stdout",
     "output_type": "stream",
     "text": [
      "Hello World!!\n"
     ]
    }
   ],
   "source": [
    "print('Hello World!!')"
   ]
  },
  {
   "cell_type": "markdown",
   "id": "22a6fad6",
   "metadata": {},
   "source": [
    "#### Printing Multiple Statements"
   ]
  },
  {
   "cell_type": "code",
   "execution_count": 2,
   "id": "04ce7de9",
   "metadata": {},
   "outputs": [
    {
     "name": "stdout",
     "output_type": "stream",
     "text": [
      "This is Print statement\n",
      "Multiple print statements\n"
     ]
    }
   ],
   "source": [
    "print('This is Print statement')\n",
    "print(\"Multiple print statements\")"
   ]
  },
  {
   "cell_type": "markdown",
   "id": "c2aa768d",
   "metadata": {},
   "source": [
    "#### Using variable to store Data"
   ]
  },
  {
   "cell_type": "code",
   "execution_count": 3,
   "id": "39074cb0",
   "metadata": {},
   "outputs": [
    {
     "name": "stdout",
     "output_type": "stream",
     "text": [
      "My Name is Ashish, I am 22 Years old\n"
     ]
    }
   ],
   "source": [
    "name = \"Ashish\" ## var name holds the value Ashish\n",
    "age = \"22\"\n",
    "\n",
    "print(\"My Name is \" + name + \", I am \" + age + \" Years old\") ## Using + name + to concatenate the print statement with value stored in var "
   ]
  },
  {
   "cell_type": "markdown",
   "id": "1071fa76",
   "metadata": {},
   "source": [
    "#### Taking user input "
   ]
  },
  {
   "cell_type": "code",
   "execution_count": 4,
   "id": "3dcc2526",
   "metadata": {},
   "outputs": [
    {
     "name": "stdout",
     "output_type": "stream",
     "text": [
      "Enter your Name: Ashish\n",
      "Hello Ashish!\n"
     ]
    }
   ],
   "source": [
    "name = input(\"Enter your Name: \")\n",
    "print(\"Hello \" + name + \"!\")"
   ]
  },
  {
   "cell_type": "markdown",
   "id": "2824f9a7",
   "metadata": {},
   "source": [
    "#### Lists Example"
   ]
  },
  {
   "cell_type": "code",
   "execution_count": 5,
   "id": "20575755",
   "metadata": {},
   "outputs": [
    {
     "name": "stdout",
     "output_type": "stream",
     "text": [
      "['Akash', 'Karthik', 'Vaibhav', 'Vishnu']\n"
     ]
    }
   ],
   "source": [
    "friends = [\"Akash\", \"Vishnu\", \"Karthik\", \"Vaibhav\"] ## Index 0 = Akash, 1 = vishnu, 2 = karthik\n",
    "friends.sort()\n",
    "print(friends) ## friends[0] prints Akash, [1:] prints list values from index 1 onwards till n;\n"
   ]
  },
  {
   "cell_type": "markdown",
   "id": "fbe68473",
   "metadata": {},
   "source": [
    "#### Tuples Examples"
   ]
  },
  {
   "cell_type": "code",
   "execution_count": 6,
   "id": "49e495f2",
   "metadata": {},
   "outputs": [
    {
     "name": "stdout",
     "output_type": "stream",
     "text": [
      "4\n"
     ]
    }
   ],
   "source": [
    "coordinates = (4, 5) ## Tuples are immutable\n",
    "print(coordinates[0])"
   ]
  },
  {
   "cell_type": "markdown",
   "id": "55bbed41",
   "metadata": {},
   "source": [
    "#### Dictionaries"
   ]
  },
  {
   "cell_type": "code",
   "execution_count": 7,
   "id": "c8dd3f37",
   "metadata": {},
   "outputs": [
    {
     "name": "stdout",
     "output_type": "stream",
     "text": [
      "March\n"
     ]
    }
   ],
   "source": [
    "monthConversions = {\n",
    "    \"Jan\": \"January\",\n",
    "    \"Feb\": \"February\",\n",
    "    \"Mar\": \"March\",\n",
    "}\n",
    "# Key Value Pairs\n",
    "\n",
    "##print(monthConversions[\"Feb\"])\n",
    "print(monthConversions.get(\"Mar\"))\n"
   ]
  },
  {
   "cell_type": "markdown",
   "id": "f0ee9b8b",
   "metadata": {},
   "source": [
    "#### Comments"
   ]
  },
  {
   "cell_type": "code",
   "execution_count": 11,
   "id": "2330d80b",
   "metadata": {},
   "outputs": [
    {
     "name": "stdout",
     "output_type": "stream",
     "text": [
      "Comments for Fun\n"
     ]
    }
   ],
   "source": [
    "#This is Comment example\n",
    "print(\"Comments for Fun\") #This prints out a string \n",
    "\n",
    "# Single line Comment\n",
    "# for multi line comment you need to add # to each line of comment\n",
    "# first line\n",
    "#second line..\n",
    "\n"
   ]
  },
  {
   "cell_type": "markdown",
   "id": "cf1c4ec4",
   "metadata": {},
   "source": [
    "#### Casting"
   ]
  },
  {
   "cell_type": "code",
   "execution_count": 13,
   "id": "c8ec8ed6",
   "metadata": {},
   "outputs": [
    {
     "name": "stdout",
     "output_type": "stream",
     "text": [
      "3\n",
      "3\n",
      "3.0\n"
     ]
    }
   ],
   "source": [
    "a = str(3) # a will be '3'\n",
    "b = int(3) # b will be 3\n",
    "c = float(3) # c will be 3.0\n",
    "\n",
    "print(a)\n",
    "print(b)\n",
    "print(c)"
   ]
  },
  {
   "cell_type": "markdown",
   "id": "68577cb7",
   "metadata": {},
   "source": [
    "#### Get the type of Data type"
   ]
  },
  {
   "cell_type": "code",
   "execution_count": 15,
   "id": "7f94598e",
   "metadata": {},
   "outputs": [
    {
     "name": "stdout",
     "output_type": "stream",
     "text": [
      "<class 'int'>\n",
      "<class 'str'>\n"
     ]
    }
   ],
   "source": [
    "x = 10\n",
    "y = \"Example\"\n",
    "print(type(x))\n",
    "print(type(y))"
   ]
  },
  {
   "cell_type": "markdown",
   "id": "07e7969d",
   "metadata": {},
   "source": [
    "#### Type Conversion"
   ]
  },
  {
   "cell_type": "code",
   "execution_count": 16,
   "id": "5dd61083",
   "metadata": {},
   "outputs": [
    {
     "name": "stdout",
     "output_type": "stream",
     "text": [
      "1.0\n",
      "2\n",
      "(1+0j)\n",
      "<class 'float'>\n",
      "<class 'int'>\n",
      "<class 'complex'>\n"
     ]
    }
   ],
   "source": [
    "x = 1   # int \n",
    "y = 2.8 # float\n",
    "z = 1j  # complex\n",
    "\n",
    "#Convert from int to float:\n",
    "a = float(x)\n",
    "\n",
    "b = int(y)\n",
    "\n",
    "c = complex(x)\n",
    "\n",
    "print(a)\n",
    "print(b)\n",
    "print(c)\n",
    "\n",
    "print(type(a))\n",
    "print(type(b))\n",
    "print(type(c))"
   ]
  },
  {
   "cell_type": "markdown",
   "id": "c9df7c6a",
   "metadata": {},
   "source": [
    "#### Random Number"
   ]
  },
  {
   "cell_type": "code",
   "execution_count": 18,
   "id": "62147340",
   "metadata": {},
   "outputs": [
    {
     "name": "stdout",
     "output_type": "stream",
     "text": [
      "6\n"
     ]
    }
   ],
   "source": [
    "import random\n",
    "\n",
    "print(random.randrange(1, 10))"
   ]
  },
  {
   "cell_type": "markdown",
   "id": "48ec48e3",
   "metadata": {},
   "source": [
    "### Python Strings"
   ]
  },
  {
   "cell_type": "code",
   "execution_count": 20,
   "id": "b7bffc03",
   "metadata": {},
   "outputs": [
    {
     "name": "stdout",
     "output_type": "stream",
     "text": [
      "Hello\n",
      "Hello\n",
      "Hello !!\n",
      " Hello you're in Multiline String\n",
      "this is the multiline string.\n",
      "\n",
      "e\n",
      "b\n",
      "a\n",
      "n\n",
      "a\n",
      "n\n",
      "a\n",
      "8\n",
      "True\n",
      "Yes,  'free' is present.\n"
     ]
    }
   ],
   "source": [
    "print(\"Hello\") # Double Quotes works same as single quotes\n",
    "print('Hello')\n",
    "\n",
    "a = \"Hello !!\" #Assign String to a variable\n",
    "print(a)\n",
    "\n",
    "b = \"\"\" Hello you're in Multiline String\n",
    "this is the multiline string.\n",
    "\"\"\"    # use three double quotes to write multiline string\n",
    "print(b)\n",
    "\n",
    "c = \"Hello, World\" \n",
    "print(c[1]) # Strings are arrays\n",
    "\n",
    "for x in \"banana\":\n",
    "    print(x) # Looping through a string\n",
    "    \n",
    "# String Length\n",
    "print(len(a))\n",
    "\n",
    "txt = \"The best things in life are freebies\"\n",
    "print(\"free\" in txt)\n",
    "\n",
    "if \"free\" in txt:\n",
    "    print(\"Yes,  'free' is present.\")"
   ]
  },
  {
   "cell_type": "markdown",
   "id": "859274f9",
   "metadata": {},
   "source": [
    "#### Python Slicing Strings"
   ]
  },
  {
   "cell_type": "code",
   "execution_count": 23,
   "id": "a9fee80e",
   "metadata": {},
   "outputs": [
    {
     "name": "stdout",
     "output_type": "stream",
     "text": [
      "llo\n",
      "Hello\n",
      "llo, world!\n",
      "orl\n"
     ]
    }
   ],
   "source": [
    "x = \"Hello, world!\"\n",
    "print(x[2:5]) # Get the characters from position 2 to 5\n",
    "\n",
    "print(x[:5]) # Get the characters from the start position 5\n",
    "\n",
    "print(x[2:]) # Get the characters from position 2, and all the way to end\n",
    "\n",
    "print(x[-5:-2]) "
   ]
  },
  {
   "cell_type": "markdown",
   "id": "c2741268",
   "metadata": {},
   "source": [
    "#### Python - Modify Strings"
   ]
  },
  {
   "cell_type": "code",
   "execution_count": 24,
   "id": "60867300",
   "metadata": {},
   "outputs": [
    {
     "name": "stdout",
     "output_type": "stream",
     "text": [
      "HELLO, WORLD!  \n",
      "hello, world!  \n",
      "Hello, world!\n",
      "Tello, world!  \n",
      "['Hello', ' world!  ']\n"
     ]
    }
   ],
   "source": [
    "a = \"Hello, world!  \"\n",
    "print(a.upper()) # built-in method to make string characters to uppercase \n",
    "\n",
    "print(a.lower()) # this statement will make string characters to lowercase\n",
    "\n",
    "print(a.strip()) # returns \"Hello, world!\"\n",
    "\n",
    "print(a.replace(\"H\", \"T\")) # replaces the char H to T\n",
    "\n",
    "print(a.split(\",\")) # returns [\"Hello\", \"world!\"]\n",
    "\n"
   ]
  },
  {
   "cell_type": "markdown",
   "id": "9551750a",
   "metadata": {},
   "source": [
    "#### String Concatenation"
   ]
  },
  {
   "cell_type": "code",
   "execution_count": 25,
   "id": "472ca7a7",
   "metadata": {},
   "outputs": [
    {
     "name": "stdout",
     "output_type": "stream",
     "text": [
      "HelloWorld\n",
      "Hello World\n"
     ]
    }
   ],
   "source": [
    "a = \"Hello\"\n",
    "b = \"World\"\n",
    "c = a + b\n",
    "print(c)\n",
    "\n",
    "z = a + \" \" + b # this will add space between \n",
    "print(z)"
   ]
  },
  {
   "cell_type": "markdown",
   "id": "111ce2e1",
   "metadata": {},
   "source": [
    "#### String Format"
   ]
  },
  {
   "cell_type": "code",
   "execution_count": 26,
   "id": "92d5a6d5",
   "metadata": {},
   "outputs": [
    {
     "name": "stdout",
     "output_type": "stream",
     "text": [
      "My name is Ash, and I am 22\n"
     ]
    }
   ],
   "source": [
    "age = 22\n",
    "txt = \"My name is Ash, and I am {}\"\n",
    "print(txt.format(age)) # As we know we cannot combine strings with numbers. So, to overcome we use format"
   ]
  },
  {
   "cell_type": "markdown",
   "id": "0348ad54",
   "metadata": {},
   "source": [
    "#### Python - Escape Characters\n",
    "\n",
    "Code |Result\n",
    "-----|-----\n",
    "`\\'`| Single Quote\n",
    "`\\\\`|Backslash\n",
    "`\\n`|New Line\n",
    "`\\r`| Carriage Return\n",
    "`\\t`| Tab\n",
    "`\\b`|Backspace\n",
    "`\\ooo`|Octal value\n",
    "`\\xhh`|Hex Value\n"
   ]
  },
  {
   "cell_type": "code",
   "execution_count": 31,
   "id": "686c1e4c",
   "metadata": {},
   "outputs": [
    {
     "name": "stdout",
     "output_type": "stream",
     "text": [
      "People of \"India\" ruling on IT Sector\n"
     ]
    }
   ],
   "source": [
    "txt = \"People of \\\"India\\\" ruling on IT Sector\" # using Escape Character\n",
    "print(txt) "
   ]
  },
  {
   "cell_type": "markdown",
   "id": "45d3b236",
   "metadata": {},
   "source": [
    "#### Python Booleans\n",
    "In programming you often need to know if an expression is True or False.\n",
    "\n",
    "You can evaluate any expression in Python, and get one of two answers, True or False.\n",
    "\n",
    "When you compare two values, the expression is evaluated and Python returns the Boolean answer:"
   ]
  },
  {
   "cell_type": "code",
   "execution_count": 32,
   "id": "7db4e947",
   "metadata": {},
   "outputs": [
    {
     "name": "stdout",
     "output_type": "stream",
     "text": [
      "True\n",
      "False\n",
      "False\n"
     ]
    }
   ],
   "source": [
    "print(10 > 9)\n",
    "print(10 == 9)\n",
    "print(10 < 9)"
   ]
  },
  {
   "cell_type": "code",
   "execution_count": 33,
   "id": "d2bc33f0",
   "metadata": {},
   "outputs": [
    {
     "name": "stdout",
     "output_type": "stream",
     "text": [
      "b is greater than a\n"
     ]
    }
   ],
   "source": [
    "a = 200\n",
    "b = 330\n",
    "\n",
    "if b > a:\n",
    "  print(\"b is greater than a\")\n",
    "else:\n",
    "  print(\"b is not greater than a\")"
   ]
  },
  {
   "cell_type": "markdown",
   "id": "a58a6b89",
   "metadata": {},
   "source": [
    "#### Python Operators\n",
    "Operators are used to perform operations on variables and values.\n",
    "\n",
    "In the example below, we use the + operator to add together two values:"
   ]
  },
  {
   "cell_type": "code",
   "execution_count": 34,
   "id": "34944565",
   "metadata": {},
   "outputs": [
    {
     "name": "stdout",
     "output_type": "stream",
     "text": [
      "19\n"
     ]
    }
   ],
   "source": [
    "print(10 + 9)"
   ]
  },
  {
   "cell_type": "markdown",
   "id": "e2c4fda9",
   "metadata": {},
   "source": [
    "##### Python divides the operators in the following groups:\n",
    "<ul>\n",
    "    <li>Arithmetic operators</li>\n",
    "    <li>Assignment operators</li>\n",
    "    <li>Comparison operators</li>\n",
    "    <li>Logical operators</li>\n",
    "    <li>Identity operators</li>\n",
    "    <li>Membership operators</li>\n",
    "    <li>Bitwise operators</li>\n",
    "</ul>"
   ]
  },
  {
   "cell_type": "markdown",
   "id": "05c812da",
   "metadata": {},
   "source": [
    "##### Python Arithmetic Operators\n",
    "<p>Arithmetic operators are used with numeric values to perform common mathematical operations:</p>\n",
    "\n",
    "Operator | Name | Example\n",
    "---------|------|--------\n",
    "`+`      | Addition| x + y \n",
    "`-`      | Substraction | x - y\n",
    "`*`      | Multiplication | x * y\n",
    "`/`      | Division | x / y\n",
    "`%`      | Modulus | x % y\n",
    "`**`     | Exponential | x ** y\n",
    "`//`    | Floor Divison | x // y\n",
    "\n",
    "<p> To get more related to operators visit <a href = \"https://www.w3schools.com/python/python_operators.asp\">here.</a> </p>"
   ]
  },
  {
   "cell_type": "code",
   "execution_count": 35,
   "id": "573b051a",
   "metadata": {},
   "outputs": [
    {
     "name": "stdout",
     "output_type": "stream",
     "text": [
      "Enter a number: 2\n",
      "Enter another number: 5\n",
      "The addition of two numbers 2  and  5 is 7\n",
      "The subtraction of two numbers 2  and  5 is -3\n",
      "The multiplication of two numbers 2  and  5 is 10\n",
      "The modulus of two numbers 2  and  5 is 2\n",
      "The Divison of two numbers 2  and  5 is 0.4\n"
     ]
    }
   ],
   "source": [
    "def add(x, y):\n",
    "    return x+y\n",
    "\n",
    "def sub(x, y):\n",
    "    return x-y\n",
    "\n",
    "def mul(x, y):\n",
    "    return x*y\n",
    "\n",
    "def mod(x, y):\n",
    "    try:\n",
    "        return x%y\n",
    "    except:\n",
    "        print(\"Enter the Valid Divisor\")\n",
    "        \n",
    "def div(x, y):\n",
    "    try:\n",
    "        return x/y\n",
    "    except:\n",
    "        print(\"Enter the Valid Divisior\")\n",
    "        \n",
    "num1 = int(input(\"Enter a number: \"))\n",
    "num2 = int(input(\"Enter another number: \"))\n",
    "\n",
    "print(\"The addition of two numbers\", num1 ,\" and \", num2, \"is\", add(num1, num2))\n",
    "print(\"The subtraction of two numbers\", num1 ,\" and \", num2, \"is\", sub(num1, num2))\n",
    "print(\"The multiplication of two numbers\", num1 ,\" and \", num2, \"is\", mul(num1, num2))\n",
    "print(\"The modulus of two numbers\", num1 ,\" and \", num2, \"is\", mod(num1, num2))\n",
    "print(\"The Divison of two numbers\", num1 ,\" and \", num2, \"is\", div(num1, num2))\n"
   ]
  },
  {
   "cell_type": "code",
   "execution_count": 36,
   "id": "c8aeb0ec",
   "metadata": {},
   "outputs": [
    {
     "name": "stdout",
     "output_type": "stream",
     "text": [
      "Enter first number: 5\n",
      "Enter operator: +\n",
      "Enter second number: 5\n",
      "10.0\n"
     ]
    }
   ],
   "source": [
    "num1 = float(input(\"Enter first number: \"))\n",
    "op = input(\"Enter operator: \")\n",
    "num2 = float(input(\"Enter second number: \"))\n",
    "\n",
    "if op == \"+\":\n",
    "    print(num1 + num2)\n",
    "    \n",
    "elif op == \"-\":\n",
    "    print(num1 - num2)\n",
    "    \n",
    "elif op == \"*\":\n",
    "    print(num1 * num2)\n",
    "    \n",
    "elif op == \"/\":\n",
    "    print(num1 / num2)\n",
    "elif op == \"%\":\n",
    "    print(num1 % num2)\n",
    "else:\n",
    "    print(\"Enter valid operator\")\n"
   ]
  },
  {
   "cell_type": "markdown",
   "id": "d0b8b836",
   "metadata": {},
   "source": [
    "#### Python Comparision Operators\n",
    "Comparison operators are used to compare two values:"
   ]
  },
  {
   "cell_type": "code",
   "execution_count": 37,
   "id": "7363020b",
   "metadata": {},
   "outputs": [
    {
     "name": "stdout",
     "output_type": "stream",
     "text": [
      "False\n",
      "True\n",
      "True\n",
      "False\n",
      "False\n",
      "True\n"
     ]
    }
   ],
   "source": [
    "x = 5\n",
    "y = 3\n",
    "\n",
    "print(x == y) # Equal\n",
    "print(x != y) # Not Equal\n",
    "print(x > y)  # Greater than\n",
    "print(x < y)  # Less than\n",
    "print(x <= y) # Less than or Equal to\n",
    "print(x >= y) # Greater than or Equal to\n",
    "\n",
    "\n",
    "\n"
   ]
  },
  {
   "cell_type": "markdown",
   "id": "78bb63a3",
   "metadata": {},
   "source": [
    "#### Python Logical Operators\n",
    "Logical operators are used to combine conditional statements:"
   ]
  },
  {
   "cell_type": "code",
   "execution_count": 38,
   "id": "b0d462e5",
   "metadata": {},
   "outputs": [
    {
     "name": "stdout",
     "output_type": "stream",
     "text": [
      "True\n",
      "True\n",
      "False\n"
     ]
    }
   ],
   "source": [
    "x = 5\n",
    "\n",
    "print(x > 3 and x < 10) # returns True because 5 is greater than 3 AND 5 is less than 10\n",
    "\n",
    "print(x > 3 or x < 4) # returns True because one of the conditions are true (5 is greater than 3, but 5 is not less than 4)\n",
    "\n",
    "print(not(x > 3 and x < 10)) # returns False because not is used to reverse the result\n",
    "\n",
    "# and, or, not are the three Logical operators\n",
    "\n"
   ]
  },
  {
   "cell_type": "markdown",
   "id": "e8686f71",
   "metadata": {},
   "source": [
    "#### Python Identity Operators\n",
    "Identity operators are used to compare the objects, not if they are equal, but if they are actually the same object, with the same memory location:"
   ]
  },
  {
   "cell_type": "code",
   "execution_count": 43,
   "id": "21fe1a7a",
   "metadata": {},
   "outputs": [
    {
     "name": "stdout",
     "output_type": "stream",
     "text": [
      "True\n",
      "False\n",
      "True\n",
      "------------------------------------------------------------------------------------\n",
      "False\n",
      "True\n",
      "False\n"
     ]
    }
   ],
   "source": [
    "x = [\"Apple\", \"Google\"]\n",
    "y = [\"Apple\", \"Google\"]\n",
    "z = x\n",
    "\n",
    "## x is y\n",
    "print(x is z)\n",
    "\n",
    "# returns True because z is the same object as x\n",
    "\n",
    "print(x is y)\n",
    "\n",
    "# returns False because x is not the same object as y, even if they have the same content\n",
    "\n",
    "print(x == y)\n",
    "\n",
    "# to demonstrate the difference betweeen \"is\" and \"==\": this comparison returns True because x is equal to y\n",
    "\n",
    "print(\"------------------------------------------------------------------------------------\")\n",
    "## x is not y\n",
    "print(x is not z)\n",
    "\n",
    "# returns False because z is the same object as x\n",
    "\n",
    "print(x is not y)\n",
    "\n",
    "# returns True because x is not the same object as y, even if they have the same content\n",
    "\n",
    "print(x != y)\n",
    "\n",
    "# to demonstrate the difference betweeen \"is not\" and \"!=\": this comparison returns False because x is equal to y"
   ]
  },
  {
   "cell_type": "markdown",
   "id": "72d706cf",
   "metadata": {},
   "source": [
    "#### Python Membership Operators\n",
    "Membership operators are used to test if a sequence is presented in an object:"
   ]
  },
  {
   "cell_type": "code",
   "execution_count": 44,
   "id": "7b345f37",
   "metadata": {},
   "outputs": [
    {
     "name": "stdout",
     "output_type": "stream",
     "text": [
      "True\n",
      "True\n"
     ]
    }
   ],
   "source": [
    "x = [\"apple\", \"banana\"]\n",
    "\n",
    "print(\"banana\" in x) # returns True because a sequence with the value \"banana\" is in the list\n",
    "\n",
    "print(\"pineapple\" not in x) # returns True because a sequence with the value \"pineapple\" is not in the list\n",
    "\n",
    "# x in y\n",
    "# x not in y"
   ]
  },
  {
   "cell_type": "markdown",
   "id": "b5ee9adb",
   "metadata": {},
   "source": [
    "#### Python Lists\n",
    "Lists are used to store multiple items in a single variable.\n",
    "\n",
    "Lists are one of 4 built-in data types in Python used to store collections of data, the other 3 are Tuple, Set, and Dictionary, all with different qualities and usage.\n",
    "\n",
    "Lists are created using square brackets:"
   ]
  },
  {
   "cell_type": "code",
   "execution_count": 45,
   "id": "07089b7e",
   "metadata": {},
   "outputs": [
    {
     "name": "stdout",
     "output_type": "stream",
     "text": [
      "['apple', 'banana', 'cherry']\n"
     ]
    }
   ],
   "source": [
    "fruits = [\"apple\", \"banana\", \"cherry\"]\n",
    "print(fruits)"
   ]
  },
  {
   "cell_type": "markdown",
   "id": "90c79ded",
   "metadata": {},
   "source": [
    "#### Python Collections (Arrays)\n",
    "There are four collection data types in the Python programming language:\n",
    "<ul>\n",
    "    <li>List is a collection which is ordered and changeable. Allows duplicate members.</li>\n",
    "    <li>Tuple is a collection which is ordered and unchangeable. Allows duplicate members.</li>\n",
    "    <li>Set is a collection which is unordered, unchangeable*, and unindexed. No duplicate members.</li>\n",
    "    <li>Dictionary is a collection which is ordered** and changeable. No duplicate members.</li>\n",
    "</ul>"
   ]
  },
  {
   "cell_type": "markdown",
   "id": "e25a2f80",
   "metadata": {},
   "source": [
    "#### Python - Access List Items"
   ]
  },
  {
   "cell_type": "code",
   "execution_count": 46,
   "id": "4d9f56cd",
   "metadata": {},
   "outputs": [
    {
     "name": "stdout",
     "output_type": "stream",
     "text": [
      "banana\n"
     ]
    }
   ],
   "source": [
    "Fruitlist = [\"apple\", \"banana\", \"cherry\"]\n",
    "print(Fruitlist[1])\n"
   ]
  },
  {
   "cell_type": "code",
   "execution_count": 58,
   "id": "5b1c7040",
   "metadata": {},
   "outputs": [
    {
     "name": "stdout",
     "output_type": "stream",
     "text": [
      "['Akash', 'Karthik', 'Vaibhav', 'Vijay', 'Vishnu']\n",
      "['Vaibhav', 'Vijay', 'Vishnu']\n",
      "Yes, 'Karthik' is in the friends\n"
     ]
    }
   ],
   "source": [
    "friends = [\"Akash\", \"Vishnu\", \"Karthik\", \"Vaibhav\", \"Vijay\"] ## Index 0 = Akash, 1 = vishnu, 2 = karthik\n",
    "friends.sort()\n",
    "print(friends) ## friends[0] prints Akash, [1:] prints list values from index 1 onwards till n;\n",
    "\n",
    "print(friends[2:]) # Range of Indexes\n",
    "#Remember that the first item is position 0,\n",
    "#and note that the item in position 5 is NOT included\n",
    "\n",
    "if \"Karthik\" in friends:\n",
    "    print(\"Yes, 'Karthik' is in the friends\")\n"
   ]
  },
  {
   "cell_type": "markdown",
   "id": "f96a79d1",
   "metadata": {},
   "source": [
    "#### Python Change List items"
   ]
  },
  {
   "cell_type": "code",
   "execution_count": 61,
   "id": "ee1589f7",
   "metadata": {},
   "outputs": [
    {
     "name": "stdout",
     "output_type": "stream",
     "text": [
      "['Akash', 'Anand', 'Karthik', 'Vaibhav', 'Vijay']\n",
      "['Akash', 'Anand', 'Vishal', 'Karthik', 'Vaibhav', 'Vijay']\n"
     ]
    }
   ],
   "source": [
    "friends = [\"Akash\", \"Vishnu\", \"Karthik\", \"Vaibhav\", \"Vijay\"] ## Index 0 = Akash, 1 = vishnu, 2 = karthik\n",
    "friends[1] = \"Anand\" # changing the value at position 1 vishnu to Anand\n",
    "print(friends)\n",
    "\n",
    "#insert new items to the list\n",
    "friends.insert(2, \"Vishal\")  # added vishal at index or position 2\n",
    "print(friends)"
   ]
  },
  {
   "cell_type": "markdown",
   "id": "6ccbc9d6",
   "metadata": {},
   "source": [
    "#### Append Items\n",
    "To add an item to the end of the list, use the append() method:"
   ]
  },
  {
   "cell_type": "code",
   "execution_count": 62,
   "id": "035edce8",
   "metadata": {},
   "outputs": [
    {
     "name": "stdout",
     "output_type": "stream",
     "text": [
      "['apple', 'banana', 'cherry', 'orange']\n"
     ]
    }
   ],
   "source": [
    "mylist = [\"apple\", \"banana\", \"cherry\"]\n",
    "\n",
    "mylist.append(\"orange\") # this will append orange at the end of list\n",
    "\n",
    "print(mylist)"
   ]
  },
  {
   "cell_type": "code",
   "execution_count": 64,
   "id": "1b7107fb",
   "metadata": {},
   "outputs": [
    {
     "name": "stdout",
     "output_type": "stream",
     "text": [
      "['apple', 'banana', 'cherry', 'mango', 'pineapple', 'papaya']\n",
      "['apple', 'banana', 'cherry', 'mango', 'pineapple', 'papaya', 'Guvava', 'watermelon']\n"
     ]
    }
   ],
   "source": [
    "mylist = [\"apple\", \"banana\", \"cherry\"]\n",
    "oldlist = [\"mango\", \"pineapple\", \"papaya\"]\n",
    "mylist.extend(oldlist)# this will merge with mylist\n",
    "\n",
    "print(mylist)\n",
    "tuplelist = (\"Guvava\", \"watermelon\")\n",
    "mylist.extend(tuplelist) # this tuple list will merge with mylist\n",
    "print(mylist)"
   ]
  },
  {
   "cell_type": "markdown",
   "id": "22ab66e0",
   "metadata": {},
   "source": [
    "#### Python - Remove List Items"
   ]
  },
  {
   "cell_type": "code",
   "execution_count": 65,
   "id": "e1805c2e",
   "metadata": {},
   "outputs": [
    {
     "name": "stdout",
     "output_type": "stream",
     "text": [
      "['apple', 'cherry', 'papaya', 'mango']\n",
      "['apple', 'papaya', 'mango']\n",
      "['apple', 'papaya']\n",
      "['papaya']\n",
      "[]\n"
     ]
    }
   ],
   "source": [
    "thislist = [\"apple\", \"banana\", \"cherry\", \"papaya\", \"mango\"]\n",
    "thislist.remove(\"banana\") # it will remove banana from the list\n",
    "print(thislist)\n",
    "\n",
    "thislist.pop(1) # this will delete or pop the element form index 1\n",
    "print(thislist) \n",
    "\n",
    "thislist.pop() # this will pop the last element in the list\n",
    "print(thislist)\n",
    "\n",
    "del thislist[0] # this will delete the element from index 0\n",
    "print(thislist)\n",
    "\n",
    "thislist.clear() # this will clear the list prints empty list\n",
    "print(thislist)"
   ]
  },
  {
   "cell_type": "markdown",
   "id": "bdbef931",
   "metadata": {},
   "source": [
    "#### Loop Through a List\n",
    "You can loop through the list items by using a for loop:"
   ]
  },
  {
   "cell_type": "code",
   "execution_count": 66,
   "id": "d9f65a68",
   "metadata": {},
   "outputs": [
    {
     "name": "stdout",
     "output_type": "stream",
     "text": [
      "apple\n",
      "banana\n",
      "cherry\n"
     ]
    }
   ],
   "source": [
    "thislist = [\"apple\", \"banana\", \"cherry\"]\n",
    "for x in thislist:\n",
    "  print(x)"
   ]
  },
  {
   "cell_type": "code",
   "execution_count": 67,
   "id": "fd581b92",
   "metadata": {},
   "outputs": [
    {
     "name": "stdout",
     "output_type": "stream",
     "text": [
      "apple\n",
      "banana\n",
      "cherry\n"
     ]
    }
   ],
   "source": [
    "# Refering to their index numbers [0,1,2]\n",
    "thislist = [\"apple\", \"banana\", \"cherry\"]\n",
    "for i in range(len(thislist)):\n",
    "  print(thislist[i])"
   ]
  },
  {
   "cell_type": "code",
   "execution_count": 68,
   "id": "f8e7a5da",
   "metadata": {},
   "outputs": [
    {
     "name": "stdout",
     "output_type": "stream",
     "text": [
      "apple\n",
      "banana\n",
      "cherry\n"
     ]
    }
   ],
   "source": [
    "# Loop through while loop to go through all the index numbers\n",
    "thislist = [\"apple\", \"banana\", \"cherry\"]\n",
    "i = 0\n",
    "while i < len(thislist):\n",
    "  print(thislist[i])\n",
    "  i = i + 1 #increment by 1 at each iteration"
   ]
  },
  {
   "cell_type": "code",
   "execution_count": 70,
   "id": "8d95636c",
   "metadata": {},
   "outputs": [
    {
     "name": "stdout",
     "output_type": "stream",
     "text": [
      "apple\n",
      "banana\n",
      "cherry\n"
     ]
    },
    {
     "data": {
      "text/plain": [
       "[None, None, None]"
      ]
     },
     "execution_count": 70,
     "metadata": {},
     "output_type": "execute_result"
    }
   ],
   "source": [
    "thislist = [\"apple\", \"banana\", \"cherry\"]\n",
    "[print(x) for x in thislist] # short hand for loop that will print all the list items"
   ]
  },
  {
   "cell_type": "markdown",
   "id": "9a1fefaf",
   "metadata": {},
   "source": [
    "#### Python - List Comprehension"
   ]
  },
  {
   "cell_type": "code",
   "execution_count": 71,
   "id": "9b901ff4",
   "metadata": {},
   "outputs": [
    {
     "name": "stdout",
     "output_type": "stream",
     "text": [
      "['apple', 'banana', 'mango']\n"
     ]
    }
   ],
   "source": [
    "fruits = [\"apple\", \"banana\", \"cherry\", \"kiwi\", \"mango\"]\n",
    "newlist = []\n",
    "\n",
    "for x in fruits:\n",
    "  if \"a\" in x:        # If a is found in any of the list items get added to newlist\n",
    "    newlist.append(x)\n",
    "\n",
    "print(newlist) # prints the newlist"
   ]
  },
  {
   "cell_type": "markdown",
   "id": "bd5b42ab",
   "metadata": {},
   "source": [
    "#### Sort List"
   ]
  },
  {
   "cell_type": "code",
   "execution_count": 1,
   "id": "1b8c4c23",
   "metadata": {},
   "outputs": [
    {
     "name": "stdout",
     "output_type": "stream",
     "text": [
      "['Akash', 'Anand', 'Karthik', 'Vaibhav', 'Vijay', 'Vishnu']\n",
      "['Vishnu', 'Vijay', 'Vaibhav', 'Karthik', 'Anand', 'Akash']\n",
      "['Ashley', 'Bijay', 'zak', 'John', 'Undertaker', 'Akash']\n"
     ]
    }
   ],
   "source": [
    "friends = [\"Akash\", \"Vishnu\", \"Karthik\", \"Vaibhav\", \"Vijay\", \"Anand\"] ## Index 0 = Akash, 1 = vishnu, 2 = karthik\n",
    "friends.sort()\n",
    "print(friends)\n",
    "      \n",
    "friends.sort(reverse = True)\n",
    "print(friends)\n",
    "\n",
    "friends2 = [\"Akash\", \"Undertaker\", \"John\", \"zak\", \"Bijay\", \"Ashley\"]\n",
    "friends2.reverse() #reverse the list of items\n",
    "print(friends2)"
   ]
  },
  {
   "cell_type": "markdown",
   "id": "23f2c07f",
   "metadata": {},
   "source": [
    "#### Tuple\n",
    "- Tuples are used to store multiple items in a single variable.\n",
    "\n",
    "- Tuple is one of 4 built-in data types in Python used to store collections of data, the other 3 are List, Set, and Dictionary, all with different qualities and usage.\n",
    "\n",
    "- A tuple is a collection which is ordered and unchangeable.\n",
    "\n",
    "- Tuples are written with round brackets."
   ]
  },
  {
   "cell_type": "code",
   "execution_count": 2,
   "id": "950e13e4",
   "metadata": {},
   "outputs": [
    {
     "name": "stdout",
     "output_type": "stream",
     "text": [
      "('apple', 'banana', 'cherry')\n",
      "3\n",
      "banana\n",
      "<class 'tuple'>\n",
      "<class 'str'>\n"
     ]
    }
   ],
   "source": [
    "thistuple = (\"apple\", \"banana\", \"cherry\")\n",
    "print(thistuple)\n",
    "print(len(thistuple)) # len of the tuple\n",
    "\n",
    "print(thistuple[1]) # Access tuples \n",
    "\n",
    "thistuple1 = (\"apple\",) # remeber , comma to be consider\n",
    "print(type(thistuple1))\n",
    "\n",
    "#NOT a tuple\n",
    "thistuple3 = (\"apple\")\n",
    "print(type(thistuple3))"
   ]
  },
  {
   "cell_type": "markdown",
   "id": "8968b9a9",
   "metadata": {},
   "source": [
    "#### Convert the tuple to list "
   ]
  },
  {
   "cell_type": "code",
   "execution_count": 3,
   "id": "9baeb3fa",
   "metadata": {},
   "outputs": [
    {
     "name": "stdout",
     "output_type": "stream",
     "text": [
      "('apple', 'kiwi', 'cherry')\n"
     ]
    }
   ],
   "source": [
    "x = (\"apple\", \"banana\", \"cherry\")\n",
    "y = list(x) # keeping all the values in list method built-in\n",
    "y[1] = \"kiwi\" #add kiwi in list y\n",
    "x = tuple(y) # tuple of y\n",
    "\n",
    "print(x)"
   ]
  },
  {
   "cell_type": "code",
   "execution_count": 4,
   "id": "67c24c26",
   "metadata": {},
   "outputs": [
    {
     "name": "stdout",
     "output_type": "stream",
     "text": [
      "('apple', 'banana', 'cherry', 'orange')\n"
     ]
    }
   ],
   "source": [
    "thistuple = (\"apple\", \"banana\", \"cherry\")\n",
    "y = list(thistuple)\n",
    "y.append(\"orange\")\n",
    "thistuple = tuple(y)\n",
    "\n",
    "print(thistuple)\n"
   ]
  },
  {
   "cell_type": "markdown",
   "id": "1ce0885c",
   "metadata": {},
   "source": [
    "#### Python Sets"
   ]
  },
  {
   "cell_type": "code",
   "execution_count": 1,
   "id": "57fa72a5",
   "metadata": {},
   "outputs": [
    {
     "name": "stdout",
     "output_type": "stream",
     "text": [
      "{'banana', 'cherry', 'apple'}\n"
     ]
    }
   ],
   "source": [
    "exampleset = {\"apple\", \"banana\", \"cherry\"}\n",
    "print(exampleset) "
   ]
  },
  {
   "cell_type": "code",
   "execution_count": 2,
   "id": "69e2211d",
   "metadata": {},
   "outputs": [
    {
     "name": "stdout",
     "output_type": "stream",
     "text": [
      "3\n"
     ]
    }
   ],
   "source": [
    "thisset = {\"apple\", \"banana\", \"cherry\"}\n",
    "\n",
    "print(len(thisset))"
   ]
  },
  {
   "cell_type": "code",
   "execution_count": 3,
   "id": "b717dbd9",
   "metadata": {},
   "outputs": [
    {
     "name": "stdout",
     "output_type": "stream",
     "text": [
      "banana\n",
      "cherry\n",
      "apple\n"
     ]
    }
   ],
   "source": [
    "thisset = {\"apple\", \"banana\", \"cherry\"}\n",
    "\n",
    "for x in thisset:\n",
    "  print(x)"
   ]
  },
  {
   "cell_type": "code",
   "execution_count": 4,
   "id": "fdf2e91c",
   "metadata": {},
   "outputs": [
    {
     "name": "stdout",
     "output_type": "stream",
     "text": [
      "{'banana', 'cherry', 'apple', 'orange'}\n"
     ]
    }
   ],
   "source": [
    "thisset = {\"apple\", \"banana\", \"cherry\"}\n",
    "\n",
    "thisset.add(\"orange\") #add set items\n",
    "\n",
    "print(thisset)"
   ]
  },
  {
   "cell_type": "code",
   "execution_count": 5,
   "id": "f43fd039",
   "metadata": {},
   "outputs": [
    {
     "name": "stdout",
     "output_type": "stream",
     "text": [
      "{'cherry', 'apple'}\n"
     ]
    }
   ],
   "source": [
    "thisset = {\"apple\", \"banana\", \"cherry\"}\n",
    "\n",
    "thisset.remove(\"banana\")\n",
    "\n",
    "print(thisset)"
   ]
  },
  {
   "cell_type": "code",
   "execution_count": 6,
   "id": "398a6869",
   "metadata": {},
   "outputs": [
    {
     "name": "stdout",
     "output_type": "stream",
     "text": [
      "{'cherry', 'apple'}\n"
     ]
    }
   ],
   "source": [
    "thisset = {\"apple\", \"banana\", \"cherry\"}\n",
    "\n",
    "thisset.discard(\"banana\")\n",
    "\n",
    "print(thisset)"
   ]
  },
  {
   "cell_type": "markdown",
   "id": "3837c291",
   "metadata": {},
   "source": [
    "#### Python Dictionaries"
   ]
  },
  {
   "cell_type": "code",
   "execution_count": 8,
   "id": "b6af5453",
   "metadata": {},
   "outputs": [
    {
     "name": "stdout",
     "output_type": "stream",
     "text": [
      "{'brand': 'Ford', 'model': 'Mustang', 'year': 1964}\n"
     ]
    }
   ],
   "source": [
    "thisdict = {\n",
    "  \"brand\": \"Ford\",  # key brand, value Ford\n",
    "  \"model\": \"Mustang\",\n",
    "  \"year\": 1964\n",
    "}\n",
    "print(thisdict)"
   ]
  },
  {
   "cell_type": "code",
   "execution_count": 9,
   "id": "df4cd1cb",
   "metadata": {},
   "outputs": [
    {
     "name": "stdout",
     "output_type": "stream",
     "text": [
      "Ford\n"
     ]
    }
   ],
   "source": [
    "thisdict = {\n",
    "  \"brand\": \"Ford\",\n",
    "  \"model\": \"Mustang\",\n",
    "  \"year\": 1964\n",
    "}\n",
    "print(thisdict[\"brand\"]) # print the brand value of the dictionary"
   ]
  },
  {
   "cell_type": "code",
   "execution_count": 12,
   "id": "0c287200",
   "metadata": {},
   "outputs": [
    {
     "name": "stdout",
     "output_type": "stream",
     "text": [
      "{'brand': 'Ford', 'model': 'Mustang', 'year': 2020}\n"
     ]
    }
   ],
   "source": [
    "thisdict = {\n",
    "  \"brand\": \"Ford\",\n",
    "  \"model\": \"Mustang\",\n",
    "  \"year\": 1964\n",
    "}\n",
    "thisdict.update({\"year\": 2020}) # update year\n",
    "\n",
    "print(thisdict)"
   ]
  },
  {
   "cell_type": "code",
   "execution_count": 13,
   "id": "96becc52",
   "metadata": {},
   "outputs": [
    {
     "name": "stdout",
     "output_type": "stream",
     "text": [
      "{'child1': {'name': 'Emil', 'year': 2004}, 'child2': {'name': 'Tobias', 'year': 2007}, 'child3': {'name': 'Linus', 'year': 2011}}\n"
     ]
    }
   ],
   "source": [
    "myfamily = {\n",
    "  \"child1\" : {\n",
    "    \"name\" : \"Emil\",\n",
    "    \"year\" : 2004\n",
    "  },\n",
    "  \"child2\" : {\n",
    "    \"name\" : \"Tobias\",\n",
    "    \"year\" : 2007\n",
    "  },\n",
    "  \"child3\" : {\n",
    "    \"name\" : \"Linus\",\n",
    "    \"year\" : 2011\n",
    "  }\n",
    "}\n",
    "\n",
    "print(myfamily)"
   ]
  },
  {
   "cell_type": "markdown",
   "id": "0f4d66d3",
   "metadata": {},
   "source": [
    "### Python Conditions and If statements\n",
    "- Python supports the usual logical conditions from mathematics:\n",
    "\n",
    "- Equals: `a == b`\n",
    "- Not Equals: `a != b`\n",
    "- Less than: `a < b`\n",
    "- Less than or equal to: `a <= b`\n",
    "- Greater than: `a > b`\n",
    "- Greater than or equal to: `a >= b`\n",
    "- These conditions can be used in several ways, most commonly in \"if statements\" and loops.\n",
    "\n",
    "An \"if statement\" is written by using the if keyword.\n"
   ]
  },
  {
   "cell_type": "code",
   "execution_count": 14,
   "id": "8839eb1e",
   "metadata": {},
   "outputs": [
    {
     "name": "stdout",
     "output_type": "stream",
     "text": [
      "b is greater than a\n"
     ]
    }
   ],
   "source": [
    "# if statement\n",
    "a = 33\n",
    "b = 200\n",
    "if b > a:\n",
    "  print(\"b is greater than a\")"
   ]
  },
  {
   "cell_type": "code",
   "execution_count": 15,
   "id": "4534de3b",
   "metadata": {},
   "outputs": [
    {
     "name": "stdout",
     "output_type": "stream",
     "text": [
      "a and b are equal\n"
     ]
    }
   ],
   "source": [
    "# elif example\n",
    "a = 33\n",
    "b = 33\n",
    "if b > a:\n",
    "  print(\"b is greater than a\")\n",
    "elif a == b:\n",
    "  print(\"a and b are equal\")"
   ]
  },
  {
   "cell_type": "code",
   "execution_count": 16,
   "id": "0c42cb7e",
   "metadata": {},
   "outputs": [
    {
     "name": "stdout",
     "output_type": "stream",
     "text": [
      "a is greater than b\n"
     ]
    }
   ],
   "source": [
    "# else statement\n",
    "a = 200\n",
    "b = 33\n",
    "if b > a:\n",
    "  print(\"b is greater than a\")\n",
    "elif a == b:\n",
    "  print(\"a and b are equal\")\n",
    "else:\n",
    "  print(\"a is greater than b\")"
   ]
  },
  {
   "cell_type": "markdown",
   "id": "77f16bbd",
   "metadata": {},
   "source": [
    "#### Nested if"
   ]
  },
  {
   "cell_type": "code",
   "execution_count": 17,
   "id": "6d019f80",
   "metadata": {},
   "outputs": [
    {
     "name": "stdout",
     "output_type": "stream",
     "text": [
      "Above ten,\n",
      "and also above 20!\n"
     ]
    }
   ],
   "source": [
    "x = 41\n",
    "\n",
    "if x > 10:\n",
    "  print(\"Above ten,\")\n",
    "  if x > 20:\n",
    "    print(\"and also above 20!\")\n",
    "  else:\n",
    "    print(\"but not above 20.\")"
   ]
  },
  {
   "cell_type": "code",
   "execution_count": 18,
   "id": "732cbafa",
   "metadata": {},
   "outputs": [
    {
     "name": "stdout",
     "output_type": "stream",
     "text": [
      "40\n"
     ]
    }
   ],
   "source": [
    "# if statement and comparisions\n",
    "def max_num(num1, num2, num3):\n",
    "    if num1 >= num2 and num1 >= num3:\n",
    "        return num1\n",
    "    elif num2 >= num1 and num2 >= num3:\n",
    "        return num2\n",
    "    else:\n",
    "        return num3\n",
    "    \n",
    "print(max_num(3, 40, 5))"
   ]
  },
  {
   "cell_type": "markdown",
   "id": "6cf3d7e9",
   "metadata": {},
   "source": [
    "### Python Loops\n",
    "- Python has two primitive loop commands:\n",
    "\n",
    "`while` loops<br>\n",
    "`for` loops\n",
    "### The while Loop\n",
    "- With the while loop we can execute a set of statements as long as a condition is true."
   ]
  },
  {
   "cell_type": "code",
   "execution_count": 19,
   "id": "c59558e3",
   "metadata": {},
   "outputs": [
    {
     "name": "stdout",
     "output_type": "stream",
     "text": [
      "1\n",
      "2\n",
      "3\n",
      "4\n",
      "5\n",
      "6\n",
      "7\n",
      "8\n",
      "9\n",
      "10\n",
      "Done with Loop\n"
     ]
    }
   ],
   "source": [
    "i = 1\n",
    "while i <= 10: # Until condition is true it keeps executing\n",
    "    print(i)\n",
    "    i += 1 # adds 1 to i again goes to condition checks for it and keeps iterating\n",
    "    \n",
    "print(\"Done with Loop\")"
   ]
  },
  {
   "cell_type": "code",
   "execution_count": 20,
   "id": "3f4b3327",
   "metadata": {},
   "outputs": [
    {
     "name": "stdout",
     "output_type": "stream",
     "text": [
      "1\n",
      "2\n",
      "3\n"
     ]
    }
   ],
   "source": [
    "# using break \n",
    "i = 1\n",
    "while i < 6:\n",
    "  print(i)\n",
    "  if i == 3:\n",
    "    break # exit the loop when i is 3\n",
    "  i += 1"
   ]
  },
  {
   "cell_type": "code",
   "execution_count": 21,
   "id": "2a8af702",
   "metadata": {},
   "outputs": [
    {
     "name": "stdout",
     "output_type": "stream",
     "text": [
      "1\n",
      "2\n",
      "4\n",
      "5\n",
      "6\n"
     ]
    }
   ],
   "source": [
    "# using Continue \n",
    "i = 0\n",
    "while i < 6:\n",
    "  i += 1\n",
    "  if i == 3:\n",
    "    continue\n",
    "  print(i)"
   ]
  },
  {
   "cell_type": "code",
   "execution_count": 22,
   "id": "397ad981",
   "metadata": {},
   "outputs": [
    {
     "name": "stdout",
     "output_type": "stream",
     "text": [
      "1\n",
      "2\n",
      "3\n",
      "4\n",
      "5\n",
      "i is no longer less than 6\n"
     ]
    }
   ],
   "source": [
    "# print the message once Condition is false\n",
    "i = 1\n",
    "while i < 6:\n",
    "  print(i)\n",
    "  i += 1\n",
    "else:\n",
    "  print(\"i is no longer less than 6\")"
   ]
  },
  {
   "cell_type": "markdown",
   "id": "fc77dc8c",
   "metadata": {},
   "source": [
    "### Python For Loops\n",
    "- A `for` loop is used for iterating over a sequence (that is either a list, a tuple, a dictionary, a set, or a string).\n",
    "\n",
    "- This is less like the `for` keyword in other programming languages, and works more like an iterator method as found in other object-orientated programming languages.\n",
    "\n",
    "- With the `for` loop we can execute a set of statements, once for each item in a list, tuple, set etc."
   ]
  },
  {
   "cell_type": "code",
   "execution_count": 23,
   "id": "cf953465",
   "metadata": {},
   "outputs": [
    {
     "name": "stdout",
     "output_type": "stream",
     "text": [
      "apple\n",
      "banana\n",
      "cherry\n"
     ]
    }
   ],
   "source": [
    "fruits = [\"apple\", \"banana\", \"cherry\"]\n",
    "for x in fruits:\n",
    "  print(x)"
   ]
  },
  {
   "cell_type": "code",
   "execution_count": 24,
   "id": "82d8581d",
   "metadata": {},
   "outputs": [
    {
     "name": "stdout",
     "output_type": "stream",
     "text": [
      "0\n",
      "1\n",
      "2\n",
      "3\n",
      "4\n",
      "Jim\n",
      "John\n",
      "Kevin\n",
      "First Iteration\n",
      "Not first\n",
      "Not first\n",
      "Not first\n",
      "Not first\n"
     ]
    }
   ],
   "source": [
    "for index in range(5):\n",
    "    print(index)\n",
    "    \n",
    "friends = [\"Jim\", \"John\", \"Kevin\"]\n",
    "for friend in friends:\n",
    "    print(friend)\n",
    "    \n",
    "for index in range(5):\n",
    "    if index == 0:\n",
    "        print(\"First Iteration\")\n",
    "    else:\n",
    "        print(\"Not first\")"
   ]
  },
  {
   "cell_type": "code",
   "execution_count": 25,
   "id": "4afeaa98",
   "metadata": {},
   "outputs": [
    {
     "name": "stdout",
     "output_type": "stream",
     "text": [
      "apple\n",
      "banana\n"
     ]
    }
   ],
   "source": [
    "# break\n",
    "fruits = [\"apple\", \"banana\", \"cherry\"]\n",
    "for x in fruits:\n",
    "  print(x) \n",
    "  if x == \"banana\":\n",
    "    break"
   ]
  },
  {
   "cell_type": "code",
   "execution_count": 26,
   "id": "6a446616",
   "metadata": {},
   "outputs": [
    {
     "name": "stdout",
     "output_type": "stream",
     "text": [
      "apple\n",
      "cherry\n"
     ]
    }
   ],
   "source": [
    "fruits = [\"apple\", \"banana\", \"cherry\"]\n",
    "for x in fruits:\n",
    "  if x == \"banana\":\n",
    "    continue\n",
    "  print(x)"
   ]
  },
  {
   "cell_type": "code",
   "execution_count": 27,
   "id": "e5942f2c",
   "metadata": {},
   "outputs": [
    {
     "name": "stdout",
     "output_type": "stream",
     "text": [
      "0\n",
      "1\n",
      "2\n",
      "3\n",
      "4\n",
      "5\n"
     ]
    }
   ],
   "source": [
    "for x in range(6):\n",
    "  print(x) "
   ]
  },
  {
   "cell_type": "code",
   "execution_count": 28,
   "id": "02bfd3d3",
   "metadata": {},
   "outputs": [
    {
     "name": "stdout",
     "output_type": "stream",
     "text": [
      "0\n",
      "1\n",
      "2\n",
      "3\n",
      "4\n",
      "5\n",
      "Finally finished!\n"
     ]
    }
   ],
   "source": [
    "for x in range(6):\n",
    "  print(x)\n",
    "else:\n",
    "  print(\"Finally finished!\")"
   ]
  },
  {
   "cell_type": "code",
   "execution_count": 29,
   "id": "98350eeb",
   "metadata": {},
   "outputs": [
    {
     "name": "stdout",
     "output_type": "stream",
     "text": [
      "red apple\n",
      "red banana\n",
      "red cherry\n",
      "big apple\n",
      "big banana\n",
      "big cherry\n",
      "tasty apple\n",
      "tasty banana\n",
      "tasty cherry\n"
     ]
    }
   ],
   "source": [
    "adj = [\"red\", \"big\", \"tasty\"]\n",
    "fruits = [\"apple\", \"banana\", \"cherry\"]\n",
    "\n",
    "for x in adj:\n",
    "  for y in fruits:\n",
    "    print(x, y)"
   ]
  },
  {
   "cell_type": "markdown",
   "id": "1109424b",
   "metadata": {},
   "source": [
    "### Python Functions\n",
    "- A function is a block of code which only runs when it is called.\n",
    "\n",
    "- You can pass data, known as parameters, into a function.\n",
    "\n",
    "- A function can return data as a result.\n",
    "\n",
    "#### Creating a Function\n",
    "- In Python a function is defined using the **`def`** keyword:\n"
   ]
  },
  {
   "cell_type": "code",
   "execution_count": 30,
   "id": "b9a2ddbf",
   "metadata": {},
   "outputs": [
    {
     "name": "stdout",
     "output_type": "stream",
     "text": [
      "Hello from a function\n"
     ]
    }
   ],
   "source": [
    "def my_function():\n",
    "  print(\"Hello from a function\")\n",
    "\n",
    "my_function()"
   ]
  },
  {
   "cell_type": "code",
   "execution_count": 31,
   "id": "ae07fde2",
   "metadata": {},
   "outputs": [
    {
     "name": "stdout",
     "output_type": "stream",
     "text": [
      "Hello Ashish, you are 22\n",
      "Hello Ram, you are 22\n"
     ]
    }
   ],
   "source": [
    "def fun(name, age): # def your own Function using def keyword\n",
    "    print(\"Hello \" + name + \", you are \" +str(age))\n",
    "    \n",
    "fun(\"Ashish\", 22)\n",
    "fun(\"Ram\", 22)"
   ]
  },
  {
   "cell_type": "markdown",
   "id": "062ec35d",
   "metadata": {},
   "source": [
    "### Python Lambda\n",
    "- A **`lambda`** function is a small anonymous function.\n",
    "\n",
    "- A **`lambda`** function can take any number of arguments, but can only have one expression."
   ]
  },
  {
   "cell_type": "code",
   "execution_count": 32,
   "id": "4495b3ed",
   "metadata": {},
   "outputs": [
    {
     "name": "stdout",
     "output_type": "stream",
     "text": [
      "15\n"
     ]
    }
   ],
   "source": [
    "x = lambda a : a + 10\n",
    "print(x(5))"
   ]
  },
  {
   "cell_type": "code",
   "execution_count": 33,
   "id": "614e90e2",
   "metadata": {},
   "outputs": [
    {
     "name": "stdout",
     "output_type": "stream",
     "text": [
      "30\n"
     ]
    }
   ],
   "source": [
    "x = lambda a, b : a * b  # Summarize argument a, b, and c and return the result\n",
    "print(x(5, 6))"
   ]
  },
  {
   "cell_type": "code",
   "execution_count": 34,
   "id": "cdbb1a75",
   "metadata": {},
   "outputs": [
    {
     "name": "stdout",
     "output_type": "stream",
     "text": [
      "22\n"
     ]
    }
   ],
   "source": [
    "def myfunc(n):\n",
    "  return lambda a : a * n\n",
    "\n",
    "mydoubler = myfunc(2)\n",
    "\n",
    "print(mydoubler(11))"
   ]
  },
  {
   "cell_type": "markdown",
   "id": "de02cc61",
   "metadata": {},
   "source": [
    "### Python Classes and Objects\n",
    "- Python Classes/Objects\n",
    "- Python is an object oriented programming language.\n",
    "\n",
    "- Almost everything in Python is an object, with its properties and methods.\n",
    "\n",
    "- A Class is like an object constructor, or a \"blueprint\" for creating objects."
   ]
  },
  {
   "cell_type": "code",
   "execution_count": 35,
   "id": "880da092",
   "metadata": {},
   "outputs": [
    {
     "name": "stdout",
     "output_type": "stream",
     "text": [
      "5\n"
     ]
    }
   ],
   "source": [
    "class MyClass:\n",
    "  x = 5\n",
    "\n",
    "p1 = MyClass()\n",
    "print(p1.x)"
   ]
  }
 ],
 "metadata": {
  "kernelspec": {
   "display_name": "Python 3 (ipykernel)",
   "language": "python",
   "name": "python3"
  },
  "language_info": {
   "codemirror_mode": {
    "name": "ipython",
    "version": 3
   },
   "file_extension": ".py",
   "mimetype": "text/x-python",
   "name": "python",
   "nbconvert_exporter": "python",
   "pygments_lexer": "ipython3",
   "version": "3.10.0"
  }
 },
 "nbformat": 4,
 "nbformat_minor": 5
}
