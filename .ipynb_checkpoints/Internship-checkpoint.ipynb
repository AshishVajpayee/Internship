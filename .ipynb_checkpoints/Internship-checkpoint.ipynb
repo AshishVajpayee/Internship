{
 "cells": [
  {
   "cell_type": "markdown",
   "id": "f8616f5a",
   "metadata": {},
   "source": [
    "### Python Basics"
   ]
  },
  {
   "cell_type": "markdown",
   "id": "600367f5",
   "metadata": {},
   "source": [
    "#### Simple Print Statement"
   ]
  },
  {
   "cell_type": "code",
   "execution_count": 1,
   "id": "f761bcf5",
   "metadata": {},
   "outputs": [
    {
     "name": "stdout",
     "output_type": "stream",
     "text": [
      "Hello World!!\n"
     ]
    }
   ],
   "source": [
    "print('Hello World!!')"
   ]
  },
  {
   "cell_type": "markdown",
   "id": "3addc82c",
   "metadata": {},
   "source": [
    "#### Printing Multiple Statements"
   ]
  },
  {
   "cell_type": "code",
   "execution_count": 2,
   "id": "0801fb02",
   "metadata": {},
   "outputs": [
    {
     "name": "stdout",
     "output_type": "stream",
     "text": [
      "This is Print statement\n",
      "Multiple print statements\n"
     ]
    }
   ],
   "source": [
    "print('This is Print statement')\n",
    "print(\"Multiple print statements\")"
   ]
  },
  {
   "cell_type": "markdown",
   "id": "7e98bd68",
   "metadata": {},
   "source": [
    "#### Using variable to store Data"
   ]
  },
  {
   "cell_type": "code",
   "execution_count": 3,
   "id": "b27617c4",
   "metadata": {},
   "outputs": [
    {
     "name": "stdout",
     "output_type": "stream",
     "text": [
      "My Name is Ashish, I am 22 Years old\n"
     ]
    }
   ],
   "source": [
    "name = \"Ashish\" ## var name holds the value Ashish\n",
    "age = \"22\"\n",
    "\n",
    "print(\"My Name is \" + name + \", I am \" + age + \" Years old\") ## Using + name + to concatenate the print statement with value stored in var "
   ]
  },
  {
   "cell_type": "markdown",
   "id": "b4520ca8",
   "metadata": {},
   "source": [
    "#### Taking user input "
   ]
  },
  {
   "cell_type": "code",
   "execution_count": 4,
   "id": "be04a9ee",
   "metadata": {},
   "outputs": [
    {
     "name": "stdout",
     "output_type": "stream",
     "text": [
      "Enter your Name: Ashish\n",
      "Hello Ashish!\n"
     ]
    }
   ],
   "source": [
    "name = input(\"Enter your Name: \")\n",
    "print(\"Hello \" + name + \"!\")"
   ]
  },
  {
   "cell_type": "markdown",
   "id": "56f4929f",
   "metadata": {},
   "source": [
    "#### Lists Example"
   ]
  },
  {
   "cell_type": "code",
   "execution_count": 5,
   "id": "2c2e68a7",
   "metadata": {},
   "outputs": [
    {
     "name": "stdout",
     "output_type": "stream",
     "text": [
      "['Akash', 'Karthik', 'Vaibhav', 'Vishnu']\n"
     ]
    }
   ],
   "source": [
    "friends = [\"Akash\", \"Vishnu\", \"Karthik\", \"Vaibhav\"] ## Index 0 = Akash, 1 = vishnu, 2 = karthik\n",
    "friends.sort()\n",
    "print(friends) ## friends[0] prints Akash, [1:] prints list values from index 1 onwards till n;\n"
   ]
  },
  {
   "cell_type": "markdown",
   "id": "afd82944",
   "metadata": {},
   "source": [
    "#### Tuples Examples"
   ]
  },
  {
   "cell_type": "code",
   "execution_count": 6,
   "id": "707d71c3",
   "metadata": {},
   "outputs": [
    {
     "name": "stdout",
     "output_type": "stream",
     "text": [
      "4\n"
     ]
    }
   ],
   "source": [
    "coordinates = (4, 5) ## Tuples are immutable\n",
    "print(coordinates[0])"
   ]
  },
  {
   "cell_type": "markdown",
   "id": "d8d7b7a5",
   "metadata": {},
   "source": [
    "#### Dictionaries"
   ]
  },
  {
   "cell_type": "code",
   "execution_count": 7,
   "id": "650d567c",
   "metadata": {},
   "outputs": [
    {
     "name": "stdout",
     "output_type": "stream",
     "text": [
      "March\n"
     ]
    }
   ],
   "source": [
    "monthConversions = {\n",
    "    \"Jan\": \"January\",\n",
    "    \"Feb\": \"February\",\n",
    "    \"Mar\": \"March\",\n",
    "}\n",
    "# Key Value Pairs\n",
    "\n",
    "##print(monthConversions[\"Feb\"])\n",
    "print(monthConversions.get(\"Mar\"))\n"
   ]
  },
  {
   "cell_type": "markdown",
   "id": "3384f113",
   "metadata": {},
   "source": [
    "#### Comments"
   ]
  },
  {
   "cell_type": "code",
   "execution_count": 11,
   "id": "f0efb58c",
   "metadata": {},
   "outputs": [
    {
     "name": "stdout",
     "output_type": "stream",
     "text": [
      "Comments for Fun\n"
     ]
    }
   ],
   "source": [
    "#This is Comment example\n",
    "print(\"Comments for Fun\") #This prints out a string \n",
    "\n",
    "# Single line Comment\n",
    "# for multi line comment you need to add # to each line of comment\n",
    "# first line\n",
    "#second line..\n",
    "\n"
   ]
  },
  {
   "cell_type": "markdown",
   "id": "d2d626d2",
   "metadata": {},
   "source": [
    "#### Casting"
   ]
  },
  {
   "cell_type": "code",
   "execution_count": 13,
   "id": "dfaba96d",
   "metadata": {},
   "outputs": [
    {
     "name": "stdout",
     "output_type": "stream",
     "text": [
      "3\n",
      "3\n",
      "3.0\n"
     ]
    }
   ],
   "source": [
    "a = str(3) # a will be '3'\n",
    "b = int(3) # b will be 3\n",
    "c = float(3) # c will be 3.0\n",
    "\n",
    "print(a)\n",
    "print(b)\n",
    "print(c)"
   ]
  },
  {
   "cell_type": "markdown",
   "id": "69d585e0",
   "metadata": {},
   "source": [
    "#### Get the type of Data type"
   ]
  },
  {
   "cell_type": "code",
   "execution_count": 15,
   "id": "ebb744b8",
   "metadata": {},
   "outputs": [
    {
     "name": "stdout",
     "output_type": "stream",
     "text": [
      "<class 'int'>\n",
      "<class 'str'>\n"
     ]
    }
   ],
   "source": [
    "x = 10\n",
    "y = \"Example\"\n",
    "print(type(x))\n",
    "print(type(y))"
   ]
  },
  {
   "cell_type": "markdown",
   "id": "263574bd",
   "metadata": {},
   "source": [
    "#### Type Conversion"
   ]
  },
  {
   "cell_type": "code",
   "execution_count": 16,
   "id": "a54ff4d8",
   "metadata": {},
   "outputs": [
    {
     "name": "stdout",
     "output_type": "stream",
     "text": [
      "1.0\n",
      "2\n",
      "(1+0j)\n",
      "<class 'float'>\n",
      "<class 'int'>\n",
      "<class 'complex'>\n"
     ]
    }
   ],
   "source": [
    "x = 1   # int \n",
    "y = 2.8 # float\n",
    "z = 1j  # complex\n",
    "\n",
    "#Convert from int to float:\n",
    "a = float(x)\n",
    "\n",
    "b = int(y)\n",
    "\n",
    "c = complex(x)\n",
    "\n",
    "print(a)\n",
    "print(b)\n",
    "print(c)\n",
    "\n",
    "print(type(a))\n",
    "print(type(b))\n",
    "print(type(c))"
   ]
  },
  {
   "cell_type": "markdown",
   "id": "fc3ff6be",
   "metadata": {},
   "source": [
    "#### Random Number"
   ]
  },
  {
   "cell_type": "code",
   "execution_count": 18,
   "id": "fd224f8c",
   "metadata": {},
   "outputs": [
    {
     "name": "stdout",
     "output_type": "stream",
     "text": [
      "6\n"
     ]
    }
   ],
   "source": [
    "import random\n",
    "\n",
    "print(random.randrange(1, 10))"
   ]
  },
  {
   "cell_type": "markdown",
   "id": "71c55b7f",
   "metadata": {},
   "source": [
    "### Python Strings"
   ]
  },
  {
   "cell_type": "code",
   "execution_count": 20,
   "id": "7f4966d5",
   "metadata": {},
   "outputs": [
    {
     "name": "stdout",
     "output_type": "stream",
     "text": [
      "Hello\n",
      "Hello\n",
      "Hello !!\n",
      " Hello you're in Multiline String\n",
      "this is the multiline string.\n",
      "\n",
      "e\n",
      "b\n",
      "a\n",
      "n\n",
      "a\n",
      "n\n",
      "a\n",
      "8\n",
      "True\n",
      "Yes,  'free' is present.\n"
     ]
    }
   ],
   "source": [
    "print(\"Hello\") # Double Quotes works same as single quotes\n",
    "print('Hello')\n",
    "\n",
    "a = \"Hello !!\" #Assign String to a variable\n",
    "print(a)\n",
    "\n",
    "b = \"\"\" Hello you're in Multiline String\n",
    "this is the multiline string.\n",
    "\"\"\"    # use three double quotes to write multiline string\n",
    "print(b)\n",
    "\n",
    "c = \"Hello, World\" \n",
    "print(c[1]) # Strings are arrays\n",
    "\n",
    "for x in \"banana\":\n",
    "    print(x) # Looping through a string\n",
    "    \n",
    "# String Length\n",
    "print(len(a))\n",
    "\n",
    "txt = \"The best things in life are freebies\"\n",
    "print(\"free\" in txt)\n",
    "\n",
    "if \"free\" in txt:\n",
    "    print(\"Yes,  'free' is present.\")"
   ]
  },
  {
   "cell_type": "markdown",
   "id": "a0f0e9a2",
   "metadata": {},
   "source": [
    "#### Python Slicing Strings"
   ]
  },
  {
   "cell_type": "code",
   "execution_count": 23,
   "id": "31eedcef",
   "metadata": {},
   "outputs": [
    {
     "name": "stdout",
     "output_type": "stream",
     "text": [
      "llo\n",
      "Hello\n",
      "llo, world!\n",
      "orl\n"
     ]
    }
   ],
   "source": [
    "x = \"Hello, world!\"\n",
    "print(x[2:5]) # Get the characters from position 2 to 5\n",
    "\n",
    "print(x[:5]) # Get the characters from the start position 5\n",
    "\n",
    "print(x[2:]) # Get the characters from position 2, and all the way to end\n",
    "\n",
    "print(x[-5:-2]) "
   ]
  },
  {
   "cell_type": "markdown",
   "id": "2410f9e3",
   "metadata": {},
   "source": [
    "#### Python - Modify Strings"
   ]
  },
  {
   "cell_type": "code",
   "execution_count": 24,
   "id": "f969d540",
   "metadata": {},
   "outputs": [
    {
     "name": "stdout",
     "output_type": "stream",
     "text": [
      "HELLO, WORLD!  \n",
      "hello, world!  \n",
      "Hello, world!\n",
      "Tello, world!  \n",
      "['Hello', ' world!  ']\n"
     ]
    }
   ],
   "source": [
    "a = \"Hello, world!  \"\n",
    "print(a.upper()) # built-in method to make string characters to uppercase \n",
    "\n",
    "print(a.lower()) # this statement will make string characters to lowercase\n",
    "\n",
    "print(a.strip()) # returns \"Hello, world!\"\n",
    "\n",
    "print(a.replace(\"H\", \"T\")) # replaces the char H to T\n",
    "\n",
    "print(a.split(\",\")) # returns [\"Hello\", \"world!\"]\n",
    "\n"
   ]
  },
  {
   "cell_type": "markdown",
   "id": "36993aca",
   "metadata": {},
   "source": [
    "#### String Concatenation"
   ]
  },
  {
   "cell_type": "code",
   "execution_count": 25,
   "id": "516efc4c",
   "metadata": {},
   "outputs": [
    {
     "name": "stdout",
     "output_type": "stream",
     "text": [
      "HelloWorld\n",
      "Hello World\n"
     ]
    }
   ],
   "source": [
    "a = \"Hello\"\n",
    "b = \"World\"\n",
    "c = a + b\n",
    "print(c)\n",
    "\n",
    "z = a + \" \" + b # this will add space between \n",
    "print(z)"
   ]
  },
  {
   "cell_type": "markdown",
   "id": "fadba4dc",
   "metadata": {},
   "source": [
    "#### String Format"
   ]
  },
  {
   "cell_type": "code",
   "execution_count": 26,
   "id": "c8cdb170",
   "metadata": {},
   "outputs": [
    {
     "name": "stdout",
     "output_type": "stream",
     "text": [
      "My name is Ash, and I am 22\n"
     ]
    }
   ],
   "source": [
    "age = 22\n",
    "txt = \"My name is Ash, and I am {}\"\n",
    "print(txt.format(age)) # As we know we cannot combine strings with numbers. So, to overcome we use format"
   ]
  },
  {
   "cell_type": "markdown",
   "id": "159d9492",
   "metadata": {},
   "source": [
    "#### Python - Escape Characters\n",
    "\n",
    "Code |Result\n",
    "-----|-----\n",
    "`\\'`| Single Quote\n",
    "`\\\\`|Backslash\n",
    "`\\n`|New Line\n",
    "`\\r`| Carriage Return\n",
    "`\\t`| Tab\n",
    "`\\b`|Backspace\n",
    "`\\ooo`|Octal value\n",
    "`\\xhh`|Hex Value\n"
   ]
  },
  {
   "cell_type": "code",
   "execution_count": 31,
   "id": "8b3a1491",
   "metadata": {},
   "outputs": [
    {
     "name": "stdout",
     "output_type": "stream",
     "text": [
      "People of \"India\" ruling on IT Sector\n"
     ]
    }
   ],
   "source": [
    "txt = \"People of \\\"India\\\" ruling on IT Sector\" # using Escape Character\n",
    "print(txt) "
   ]
  }
 ],
 "metadata": {
  "kernelspec": {
   "display_name": "Python 3 (ipykernel)",
   "language": "python",
   "name": "python3"
  },
  "language_info": {
   "codemirror_mode": {
    "name": "ipython",
    "version": 3
   },
   "file_extension": ".py",
   "mimetype": "text/x-python",
   "name": "python",
   "nbconvert_exporter": "python",
   "pygments_lexer": "ipython3",
   "version": "3.10.0"
  }
 },
 "nbformat": 4,
 "nbformat_minor": 5
}
