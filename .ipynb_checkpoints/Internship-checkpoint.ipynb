{
 "cells": [
  {
   "cell_type": "markdown",
   "id": "bf0503da",
   "metadata": {},
   "source": [
    "### Python Basics"
   ]
  },
  {
   "cell_type": "markdown",
   "id": "ba0105ef",
   "metadata": {},
   "source": [
    "#### Simple Print Statement"
   ]
  },
  {
   "cell_type": "code",
   "execution_count": 1,
   "id": "c5a4a7c6",
   "metadata": {},
   "outputs": [
    {
     "name": "stdout",
     "output_type": "stream",
     "text": [
      "Hello World!!\n"
     ]
    }
   ],
   "source": [
    "print('Hello World!!')"
   ]
  },
  {
   "cell_type": "markdown",
   "id": "22a6fad6",
   "metadata": {},
   "source": [
    "#### Printing Multiple Statements"
   ]
  },
  {
   "cell_type": "code",
   "execution_count": 2,
   "id": "04ce7de9",
   "metadata": {},
   "outputs": [
    {
     "name": "stdout",
     "output_type": "stream",
     "text": [
      "This is Print statement\n",
      "Multiple print statements\n"
     ]
    }
   ],
   "source": [
    "print('This is Print statement')\n",
    "print(\"Multiple print statements\")"
   ]
  },
  {
   "cell_type": "markdown",
   "id": "c2aa768d",
   "metadata": {},
   "source": [
    "#### Using variable to store Data"
   ]
  },
  {
   "cell_type": "code",
   "execution_count": 3,
   "id": "39074cb0",
   "metadata": {},
   "outputs": [
    {
     "name": "stdout",
     "output_type": "stream",
     "text": [
      "My Name is Ashish, I am 22 Years old\n"
     ]
    }
   ],
   "source": [
    "name = \"Ashish\" ## var name holds the value Ashish\n",
    "age = \"22\"\n",
    "\n",
    "print(\"My Name is \" + name + \", I am \" + age + \" Years old\") ## Using + name + to concatenate the print statement with value stored in var "
   ]
  },
  {
   "cell_type": "markdown",
   "id": "1071fa76",
   "metadata": {},
   "source": [
    "#### Taking user input "
   ]
  },
  {
   "cell_type": "code",
   "execution_count": 4,
   "id": "3dcc2526",
   "metadata": {},
   "outputs": [
    {
     "name": "stdout",
     "output_type": "stream",
     "text": [
      "Enter your Name: Ashish\n",
      "Hello Ashish!\n"
     ]
    }
   ],
   "source": [
    "name = input(\"Enter your Name: \")\n",
    "print(\"Hello \" + name + \"!\")"
   ]
  },
  {
   "cell_type": "markdown",
   "id": "2824f9a7",
   "metadata": {},
   "source": [
    "#### Lists Example"
   ]
  },
  {
   "cell_type": "code",
   "execution_count": 5,
   "id": "20575755",
   "metadata": {},
   "outputs": [
    {
     "name": "stdout",
     "output_type": "stream",
     "text": [
      "['Akash', 'Karthik', 'Vaibhav', 'Vishnu']\n"
     ]
    }
   ],
   "source": [
    "friends = [\"Akash\", \"Vishnu\", \"Karthik\", \"Vaibhav\"] ## Index 0 = Akash, 1 = vishnu, 2 = karthik\n",
    "friends.sort()\n",
    "print(friends) ## friends[0] prints Akash, [1:] prints list values from index 1 onwards till n;\n"
   ]
  },
  {
   "cell_type": "markdown",
   "id": "fbe68473",
   "metadata": {},
   "source": [
    "#### Tuples Examples"
   ]
  },
  {
   "cell_type": "code",
   "execution_count": 6,
   "id": "49e495f2",
   "metadata": {},
   "outputs": [
    {
     "name": "stdout",
     "output_type": "stream",
     "text": [
      "4\n"
     ]
    }
   ],
   "source": [
    "coordinates = (4, 5) ## Tuples are immutable\n",
    "print(coordinates[0])"
   ]
  },
  {
   "cell_type": "markdown",
   "id": "55bbed41",
   "metadata": {},
   "source": [
    "#### Dictionaries"
   ]
  },
  {
   "cell_type": "code",
   "execution_count": 7,
   "id": "c8dd3f37",
   "metadata": {},
   "outputs": [
    {
     "name": "stdout",
     "output_type": "stream",
     "text": [
      "March\n"
     ]
    }
   ],
   "source": [
    "monthConversions = {\n",
    "    \"Jan\": \"January\",\n",
    "    \"Feb\": \"February\",\n",
    "    \"Mar\": \"March\",\n",
    "}\n",
    "# Key Value Pairs\n",
    "\n",
    "##print(monthConversions[\"Feb\"])\n",
    "print(monthConversions.get(\"Mar\"))\n"
   ]
  },
  {
   "cell_type": "markdown",
   "id": "f0ee9b8b",
   "metadata": {},
   "source": [
    "#### Comments"
   ]
  },
  {
   "cell_type": "code",
   "execution_count": 11,
   "id": "2330d80b",
   "metadata": {},
   "outputs": [
    {
     "name": "stdout",
     "output_type": "stream",
     "text": [
      "Comments for Fun\n"
     ]
    }
   ],
   "source": [
    "#This is Comment example\n",
    "print(\"Comments for Fun\") #This prints out a string \n",
    "\n",
    "# Single line Comment\n",
    "# for multi line comment you need to add # to each line of comment\n",
    "# first line\n",
    "#second line..\n",
    "\n"
   ]
  },
  {
   "cell_type": "markdown",
   "id": "cf1c4ec4",
   "metadata": {},
   "source": [
    "#### Casting"
   ]
  },
  {
   "cell_type": "code",
   "execution_count": 13,
   "id": "c8ec8ed6",
   "metadata": {},
   "outputs": [
    {
     "name": "stdout",
     "output_type": "stream",
     "text": [
      "3\n",
      "3\n",
      "3.0\n"
     ]
    }
   ],
   "source": [
    "a = str(3) # a will be '3'\n",
    "b = int(3) # b will be 3\n",
    "c = float(3) # c will be 3.0\n",
    "\n",
    "print(a)\n",
    "print(b)\n",
    "print(c)"
   ]
  },
  {
   "cell_type": "markdown",
   "id": "68577cb7",
   "metadata": {},
   "source": [
    "#### Get the type of Data type"
   ]
  },
  {
   "cell_type": "code",
   "execution_count": 15,
   "id": "7f94598e",
   "metadata": {},
   "outputs": [
    {
     "name": "stdout",
     "output_type": "stream",
     "text": [
      "<class 'int'>\n",
      "<class 'str'>\n"
     ]
    }
   ],
   "source": [
    "x = 10\n",
    "y = \"Example\"\n",
    "print(type(x))\n",
    "print(type(y))"
   ]
  },
  {
   "cell_type": "markdown",
   "id": "07e7969d",
   "metadata": {},
   "source": [
    "#### Type Conversion"
   ]
  },
  {
   "cell_type": "code",
   "execution_count": 16,
   "id": "5dd61083",
   "metadata": {},
   "outputs": [
    {
     "name": "stdout",
     "output_type": "stream",
     "text": [
      "1.0\n",
      "2\n",
      "(1+0j)\n",
      "<class 'float'>\n",
      "<class 'int'>\n",
      "<class 'complex'>\n"
     ]
    }
   ],
   "source": [
    "x = 1   # int \n",
    "y = 2.8 # float\n",
    "z = 1j  # complex\n",
    "\n",
    "#Convert from int to float:\n",
    "a = float(x)\n",
    "\n",
    "b = int(y)\n",
    "\n",
    "c = complex(x)\n",
    "\n",
    "print(a)\n",
    "print(b)\n",
    "print(c)\n",
    "\n",
    "print(type(a))\n",
    "print(type(b))\n",
    "print(type(c))"
   ]
  },
  {
   "cell_type": "markdown",
   "id": "c9df7c6a",
   "metadata": {},
   "source": [
    "#### Random Number"
   ]
  },
  {
   "cell_type": "code",
   "execution_count": 18,
   "id": "62147340",
   "metadata": {},
   "outputs": [
    {
     "name": "stdout",
     "output_type": "stream",
     "text": [
      "6\n"
     ]
    }
   ],
   "source": [
    "import random\n",
    "\n",
    "print(random.randrange(1, 10))"
   ]
  },
  {
   "cell_type": "markdown",
   "id": "48ec48e3",
   "metadata": {},
   "source": [
    "### Python Strings"
   ]
  },
  {
   "cell_type": "code",
   "execution_count": 20,
   "id": "b7bffc03",
   "metadata": {},
   "outputs": [
    {
     "name": "stdout",
     "output_type": "stream",
     "text": [
      "Hello\n",
      "Hello\n",
      "Hello !!\n",
      " Hello you're in Multiline String\n",
      "this is the multiline string.\n",
      "\n",
      "e\n",
      "b\n",
      "a\n",
      "n\n",
      "a\n",
      "n\n",
      "a\n",
      "8\n",
      "True\n",
      "Yes,  'free' is present.\n"
     ]
    }
   ],
   "source": [
    "print(\"Hello\") # Double Quotes works same as single quotes\n",
    "print('Hello')\n",
    "\n",
    "a = \"Hello !!\" #Assign String to a variable\n",
    "print(a)\n",
    "\n",
    "b = \"\"\" Hello you're in Multiline String\n",
    "this is the multiline string.\n",
    "\"\"\"    # use three double quotes to write multiline string\n",
    "print(b)\n",
    "\n",
    "c = \"Hello, World\" \n",
    "print(c[1]) # Strings are arrays\n",
    "\n",
    "for x in \"banana\":\n",
    "    print(x) # Looping through a string\n",
    "    \n",
    "# String Length\n",
    "print(len(a))\n",
    "\n",
    "txt = \"The best things in life are freebies\"\n",
    "print(\"free\" in txt)\n",
    "\n",
    "if \"free\" in txt:\n",
    "    print(\"Yes,  'free' is present.\")"
   ]
  },
  {
   "cell_type": "markdown",
   "id": "859274f9",
   "metadata": {},
   "source": [
    "#### Python Slicing Strings"
   ]
  },
  {
   "cell_type": "code",
   "execution_count": 23,
   "id": "a9fee80e",
   "metadata": {},
   "outputs": [
    {
     "name": "stdout",
     "output_type": "stream",
     "text": [
      "llo\n",
      "Hello\n",
      "llo, world!\n",
      "orl\n"
     ]
    }
   ],
   "source": [
    "x = \"Hello, world!\"\n",
    "print(x[2:5]) # Get the characters from position 2 to 5\n",
    "\n",
    "print(x[:5]) # Get the characters from the start position 5\n",
    "\n",
    "print(x[2:]) # Get the characters from position 2, and all the way to end\n",
    "\n",
    "print(x[-5:-2]) "
   ]
  },
  {
   "cell_type": "markdown",
   "id": "c2741268",
   "metadata": {},
   "source": [
    "#### Python - Modify Strings"
   ]
  },
  {
   "cell_type": "code",
   "execution_count": 24,
   "id": "60867300",
   "metadata": {},
   "outputs": [
    {
     "name": "stdout",
     "output_type": "stream",
     "text": [
      "HELLO, WORLD!  \n",
      "hello, world!  \n",
      "Hello, world!\n",
      "Tello, world!  \n",
      "['Hello', ' world!  ']\n"
     ]
    }
   ],
   "source": [
    "a = \"Hello, world!  \"\n",
    "print(a.upper()) # built-in method to make string characters to uppercase \n",
    "\n",
    "print(a.lower()) # this statement will make string characters to lowercase\n",
    "\n",
    "print(a.strip()) # returns \"Hello, world!\"\n",
    "\n",
    "print(a.replace(\"H\", \"T\")) # replaces the char H to T\n",
    "\n",
    "print(a.split(\",\")) # returns [\"Hello\", \"world!\"]\n",
    "\n"
   ]
  },
  {
   "cell_type": "markdown",
   "id": "9551750a",
   "metadata": {},
   "source": [
    "#### String Concatenation"
   ]
  },
  {
   "cell_type": "code",
   "execution_count": 25,
   "id": "472ca7a7",
   "metadata": {},
   "outputs": [
    {
     "name": "stdout",
     "output_type": "stream",
     "text": [
      "HelloWorld\n",
      "Hello World\n"
     ]
    }
   ],
   "source": [
    "a = \"Hello\"\n",
    "b = \"World\"\n",
    "c = a + b\n",
    "print(c)\n",
    "\n",
    "z = a + \" \" + b # this will add space between \n",
    "print(z)"
   ]
  },
  {
   "cell_type": "markdown",
   "id": "111ce2e1",
   "metadata": {},
   "source": [
    "#### String Format"
   ]
  },
  {
   "cell_type": "code",
   "execution_count": 26,
   "id": "92d5a6d5",
   "metadata": {},
   "outputs": [
    {
     "name": "stdout",
     "output_type": "stream",
     "text": [
      "My name is Ash, and I am 22\n"
     ]
    }
   ],
   "source": [
    "age = 22\n",
    "txt = \"My name is Ash, and I am {}\"\n",
    "print(txt.format(age)) # As we know we cannot combine strings with numbers. So, to overcome we use format"
   ]
  },
  {
   "cell_type": "markdown",
   "id": "0348ad54",
   "metadata": {},
   "source": [
    "#### Python - Escape Characters\n",
    "\n",
    "Code |Result\n",
    "-----|-----\n",
    "`\\'`| Single Quote\n",
    "`\\\\`|Backslash\n",
    "`\\n`|New Line\n",
    "`\\r`| Carriage Return\n",
    "`\\t`| Tab\n",
    "`\\b`|Backspace\n",
    "`\\ooo`|Octal value\n",
    "`\\xhh`|Hex Value\n"
   ]
  },
  {
   "cell_type": "code",
   "execution_count": 31,
   "id": "686c1e4c",
   "metadata": {},
   "outputs": [
    {
     "name": "stdout",
     "output_type": "stream",
     "text": [
      "People of \"India\" ruling on IT Sector\n"
     ]
    }
   ],
   "source": [
    "txt = \"People of \\\"India\\\" ruling on IT Sector\" # using Escape Character\n",
    "print(txt) "
   ]
  },
  {
   "cell_type": "markdown",
   "id": "45d3b236",
   "metadata": {},
   "source": [
    "#### Python Booleans\n",
    "In programming you often need to know if an expression is True or False.\n",
    "\n",
    "You can evaluate any expression in Python, and get one of two answers, True or False.\n",
    "\n",
    "When you compare two values, the expression is evaluated and Python returns the Boolean answer:"
   ]
  },
  {
   "cell_type": "code",
   "execution_count": 32,
   "id": "7db4e947",
   "metadata": {},
   "outputs": [
    {
     "name": "stdout",
     "output_type": "stream",
     "text": [
      "True\n",
      "False\n",
      "False\n"
     ]
    }
   ],
   "source": [
    "print(10 > 9)\n",
    "print(10 == 9)\n",
    "print(10 < 9)"
   ]
  },
  {
   "cell_type": "code",
   "execution_count": 33,
   "id": "d2bc33f0",
   "metadata": {},
   "outputs": [
    {
     "name": "stdout",
     "output_type": "stream",
     "text": [
      "b is greater than a\n"
     ]
    }
   ],
   "source": [
    "a = 200\n",
    "b = 330\n",
    "\n",
    "if b > a:\n",
    "  print(\"b is greater than a\")\n",
    "else:\n",
    "  print(\"b is not greater than a\")"
   ]
  },
  {
   "cell_type": "markdown",
   "id": "a58a6b89",
   "metadata": {},
   "source": [
    "#### Python Operators\n",
    "Operators are used to perform operations on variables and values.\n",
    "\n",
    "In the example below, we use the + operator to add together two values:"
   ]
  },
  {
   "cell_type": "code",
   "execution_count": 34,
   "id": "34944565",
   "metadata": {},
   "outputs": [
    {
     "name": "stdout",
     "output_type": "stream",
     "text": [
      "19\n"
     ]
    }
   ],
   "source": [
    "print(10 + 9)"
   ]
  },
  {
   "cell_type": "markdown",
   "id": "e2c4fda9",
   "metadata": {},
   "source": [
    "##### Python divides the operators in the following groups:\n",
    "<ul>\n",
    "    <li>Arithmetic operators</li>\n",
    "    <li>Assignment operators</li>\n",
    "    <li>Comparison operators</li>\n",
    "    <li>Logical operators</li>\n",
    "    <li>Identity operators</li>\n",
    "    <li>Membership operators</li>\n",
    "    <li>Bitwise operators</li>\n",
    "</ul>"
   ]
  },
  {
   "cell_type": "markdown",
   "id": "05c812da",
   "metadata": {},
   "source": [
    "##### Python Arithmetic Operators\n",
    "<p>Arithmetic operators are used with numeric values to perform common mathematical operations:</p>\n",
    "\n",
    "Operator | Name | Example\n",
    "---------|------|--------\n",
    "`+`      | Addition| x + y \n",
    "`-`      | Substraction | x - y\n",
    "`*`      | Multiplication | x * y\n",
    "`/`      | Division | x / y\n",
    "`%`      | Modulus | x % y\n",
    "`**`     | Exponential | x ** y\n",
    "`//`    | Floor Divison | x // y\n",
    "\n",
    "<p> To get more related to operators visit <a href = \"https://www.w3schools.com/python/python_operators.asp\">here.</a> </p>"
   ]
  },
  {
   "cell_type": "code",
   "execution_count": 35,
   "id": "573b051a",
   "metadata": {},
   "outputs": [
    {
     "name": "stdout",
     "output_type": "stream",
     "text": [
      "Enter a number: 2\n",
      "Enter another number: 5\n",
      "The addition of two numbers 2  and  5 is 7\n",
      "The subtraction of two numbers 2  and  5 is -3\n",
      "The multiplication of two numbers 2  and  5 is 10\n",
      "The modulus of two numbers 2  and  5 is 2\n",
      "The Divison of two numbers 2  and  5 is 0.4\n"
     ]
    }
   ],
   "source": [
    "def add(x, y):\n",
    "    return x+y\n",
    "\n",
    "def sub(x, y):\n",
    "    return x-y\n",
    "\n",
    "def mul(x, y):\n",
    "    return x*y\n",
    "\n",
    "def mod(x, y):\n",
    "    try:\n",
    "        return x%y\n",
    "    except:\n",
    "        print(\"Enter the Valid Divisor\")\n",
    "        \n",
    "def div(x, y):\n",
    "    try:\n",
    "        return x/y\n",
    "    except:\n",
    "        print(\"Enter the Valid Divisior\")\n",
    "        \n",
    "num1 = int(input(\"Enter a number: \"))\n",
    "num2 = int(input(\"Enter another number: \"))\n",
    "\n",
    "print(\"The addition of two numbers\", num1 ,\" and \", num2, \"is\", add(num1, num2))\n",
    "print(\"The subtraction of two numbers\", num1 ,\" and \", num2, \"is\", sub(num1, num2))\n",
    "print(\"The multiplication of two numbers\", num1 ,\" and \", num2, \"is\", mul(num1, num2))\n",
    "print(\"The modulus of two numbers\", num1 ,\" and \", num2, \"is\", mod(num1, num2))\n",
    "print(\"The Divison of two numbers\", num1 ,\" and \", num2, \"is\", div(num1, num2))\n"
   ]
  },
  {
   "cell_type": "code",
   "execution_count": 36,
   "id": "c8aeb0ec",
   "metadata": {},
   "outputs": [
    {
     "name": "stdout",
     "output_type": "stream",
     "text": [
      "Enter first number: 5\n",
      "Enter operator: +\n",
      "Enter second number: 5\n",
      "10.0\n"
     ]
    }
   ],
   "source": [
    "num1 = float(input(\"Enter first number: \"))\n",
    "op = input(\"Enter operator: \")\n",
    "num2 = float(input(\"Enter second number: \"))\n",
    "\n",
    "if op == \"+\":\n",
    "    print(num1 + num2)\n",
    "    \n",
    "elif op == \"-\":\n",
    "    print(num1 - num2)\n",
    "    \n",
    "elif op == \"*\":\n",
    "    print(num1 * num2)\n",
    "    \n",
    "elif op == \"/\":\n",
    "    print(num1 / num2)\n",
    "elif op == \"%\":\n",
    "    print(num1 % num2)\n",
    "else:\n",
    "    print(\"Enter valid operator\")\n"
   ]
  },
  {
   "cell_type": "markdown",
   "id": "d0b8b836",
   "metadata": {},
   "source": [
    "#### Python Comparision Operators\n",
    "Comparison operators are used to compare two values:"
   ]
  },
  {
   "cell_type": "code",
   "execution_count": 37,
   "id": "7363020b",
   "metadata": {},
   "outputs": [
    {
     "name": "stdout",
     "output_type": "stream",
     "text": [
      "False\n",
      "True\n",
      "True\n",
      "False\n",
      "False\n",
      "True\n"
     ]
    }
   ],
   "source": [
    "x = 5\n",
    "y = 3\n",
    "\n",
    "print(x == y) # Equal\n",
    "print(x != y) # Not Equal\n",
    "print(x > y)  # Greater than\n",
    "print(x < y)  # Less than\n",
    "print(x <= y) # Less than or Equal to\n",
    "print(x >= y) # Greater than or Equal to\n",
    "\n",
    "\n",
    "\n"
   ]
  },
  {
   "cell_type": "markdown",
   "id": "78bb63a3",
   "metadata": {},
   "source": [
    "#### Python Logical Operators\n",
    "Logical operators are used to combine conditional statements:"
   ]
  },
  {
   "cell_type": "code",
   "execution_count": 38,
   "id": "b0d462e5",
   "metadata": {},
   "outputs": [
    {
     "name": "stdout",
     "output_type": "stream",
     "text": [
      "True\n",
      "True\n",
      "False\n"
     ]
    }
   ],
   "source": [
    "x = 5\n",
    "\n",
    "print(x > 3 and x < 10) # returns True because 5 is greater than 3 AND 5 is less than 10\n",
    "\n",
    "print(x > 3 or x < 4) # returns True because one of the conditions are true (5 is greater than 3, but 5 is not less than 4)\n",
    "\n",
    "print(not(x > 3 and x < 10)) # returns False because not is used to reverse the result\n",
    "\n",
    "# and, or, not are the three Logical operators\n",
    "\n"
   ]
  },
  {
   "cell_type": "markdown",
   "id": "e8686f71",
   "metadata": {},
   "source": [
    "#### Python Identity Operators\n",
    "Identity operators are used to compare the objects, not if they are equal, but if they are actually the same object, with the same memory location:"
   ]
  },
  {
   "cell_type": "code",
   "execution_count": 43,
   "id": "21fe1a7a",
   "metadata": {},
   "outputs": [
    {
     "name": "stdout",
     "output_type": "stream",
     "text": [
      "True\n",
      "False\n",
      "True\n",
      "------------------------------------------------------------------------------------\n",
      "False\n",
      "True\n",
      "False\n"
     ]
    }
   ],
   "source": [
    "x = [\"Apple\", \"Google\"]\n",
    "y = [\"Apple\", \"Google\"]\n",
    "z = x\n",
    "\n",
    "## x is y\n",
    "print(x is z)\n",
    "\n",
    "# returns True because z is the same object as x\n",
    "\n",
    "print(x is y)\n",
    "\n",
    "# returns False because x is not the same object as y, even if they have the same content\n",
    "\n",
    "print(x == y)\n",
    "\n",
    "# to demonstrate the difference betweeen \"is\" and \"==\": this comparison returns True because x is equal to y\n",
    "\n",
    "print(\"------------------------------------------------------------------------------------\")\n",
    "## x is not y\n",
    "print(x is not z)\n",
    "\n",
    "# returns False because z is the same object as x\n",
    "\n",
    "print(x is not y)\n",
    "\n",
    "# returns True because x is not the same object as y, even if they have the same content\n",
    "\n",
    "print(x != y)\n",
    "\n",
    "# to demonstrate the difference betweeen \"is not\" and \"!=\": this comparison returns False because x is equal to y"
   ]
  },
  {
   "cell_type": "markdown",
   "id": "72d706cf",
   "metadata": {},
   "source": [
    "#### Python Membership Operators\n",
    "Membership operators are used to test if a sequence is presented in an object:"
   ]
  },
  {
   "cell_type": "code",
   "execution_count": 44,
   "id": "7b345f37",
   "metadata": {},
   "outputs": [
    {
     "name": "stdout",
     "output_type": "stream",
     "text": [
      "True\n",
      "True\n"
     ]
    }
   ],
   "source": [
    "x = [\"apple\", \"banana\"]\n",
    "\n",
    "print(\"banana\" in x) # returns True because a sequence with the value \"banana\" is in the list\n",
    "\n",
    "print(\"pineapple\" not in x) # returns True because a sequence with the value \"pineapple\" is not in the list\n",
    "\n",
    "# x in y\n",
    "# x not in y"
   ]
  },
  {
   "cell_type": "markdown",
   "id": "b5ee9adb",
   "metadata": {},
   "source": [
    "#### Python Lists\n",
    "Lists are used to store multiple items in a single variable.\n",
    "\n",
    "Lists are one of 4 built-in data types in Python used to store collections of data, the other 3 are Tuple, Set, and Dictionary, all with different qualities and usage.\n",
    "\n",
    "Lists are created using square brackets:"
   ]
  },
  {
   "cell_type": "code",
   "execution_count": 45,
   "id": "07089b7e",
   "metadata": {},
   "outputs": [
    {
     "name": "stdout",
     "output_type": "stream",
     "text": [
      "['apple', 'banana', 'cherry']\n"
     ]
    }
   ],
   "source": [
    "fruits = [\"apple\", \"banana\", \"cherry\"]\n",
    "print(fruits)"
   ]
  },
  {
   "cell_type": "markdown",
   "id": "90c79ded",
   "metadata": {},
   "source": [
    "#### Python Collections (Arrays)\n",
    "There are four collection data types in the Python programming language:\n",
    "<ul>\n",
    "    <li>List is a collection which is ordered and changeable. Allows duplicate members.</li>\n",
    "    <li>Tuple is a collection which is ordered and unchangeable. Allows duplicate members.</li>\n",
    "    <li>Set is a collection which is unordered, unchangeable*, and unindexed. No duplicate members.</li>\n",
    "    <li>Dictionary is a collection which is ordered** and changeable. No duplicate members.</li>\n",
    "</ul>"
   ]
  },
  {
   "cell_type": "markdown",
   "id": "e25a2f80",
   "metadata": {},
   "source": [
    "#### Python - Access List Items"
   ]
  },
  {
   "cell_type": "code",
   "execution_count": 46,
   "id": "4d9f56cd",
   "metadata": {},
   "outputs": [
    {
     "name": "stdout",
     "output_type": "stream",
     "text": [
      "banana\n"
     ]
    }
   ],
   "source": [
    "Fruitlist = [\"apple\", \"banana\", \"cherry\"]\n",
    "print(Fruitlist[1])\n"
   ]
  },
  {
   "cell_type": "code",
   "execution_count": 58,
   "id": "5b1c7040",
   "metadata": {},
   "outputs": [
    {
     "name": "stdout",
     "output_type": "stream",
     "text": [
      "['Akash', 'Karthik', 'Vaibhav', 'Vijay', 'Vishnu']\n",
      "['Vaibhav', 'Vijay', 'Vishnu']\n",
      "Yes, 'Karthik' is in the friends\n"
     ]
    }
   ],
   "source": [
    "friends = [\"Akash\", \"Vishnu\", \"Karthik\", \"Vaibhav\", \"Vijay\"] ## Index 0 = Akash, 1 = vishnu, 2 = karthik\n",
    "friends.sort()\n",
    "print(friends) ## friends[0] prints Akash, [1:] prints list values from index 1 onwards till n;\n",
    "\n",
    "print(friends[2:]) # Range of Indexes\n",
    "#Remember that the first item is position 0,\n",
    "#and note that the item in position 5 is NOT included\n",
    "\n",
    "if \"Karthik\" in friends:\n",
    "    print(\"Yes, 'Karthik' is in the friends\")\n"
   ]
  },
  {
   "cell_type": "markdown",
   "id": "f96a79d1",
   "metadata": {},
   "source": [
    "#### Python Change List items"
   ]
  },
  {
   "cell_type": "code",
   "execution_count": 61,
   "id": "ee1589f7",
   "metadata": {},
   "outputs": [
    {
     "name": "stdout",
     "output_type": "stream",
     "text": [
      "['Akash', 'Anand', 'Karthik', 'Vaibhav', 'Vijay']\n",
      "['Akash', 'Anand', 'Vishal', 'Karthik', 'Vaibhav', 'Vijay']\n"
     ]
    }
   ],
   "source": [
    "friends = [\"Akash\", \"Vishnu\", \"Karthik\", \"Vaibhav\", \"Vijay\"] ## Index 0 = Akash, 1 = vishnu, 2 = karthik\n",
    "friends[1] = \"Anand\" # changing the value at position 1 vishnu to Anand\n",
    "print(friends)\n",
    "\n",
    "#insert new items to the list\n",
    "friends.insert(2, \"Vishal\")  # added vishal at index or position 2\n",
    "print(friends)"
   ]
  },
  {
   "cell_type": "markdown",
   "id": "6ccbc9d6",
   "metadata": {},
   "source": [
    "#### Append Items\n",
    "To add an item to the end of the list, use the append() method:"
   ]
  },
  {
   "cell_type": "code",
   "execution_count": 62,
   "id": "035edce8",
   "metadata": {},
   "outputs": [
    {
     "name": "stdout",
     "output_type": "stream",
     "text": [
      "['apple', 'banana', 'cherry', 'orange']\n"
     ]
    }
   ],
   "source": [
    "mylist = [\"apple\", \"banana\", \"cherry\"]\n",
    "\n",
    "mylist.append(\"orange\") # this will append orange at the end of list\n",
    "\n",
    "print(mylist)"
   ]
  },
  {
   "cell_type": "code",
   "execution_count": 64,
   "id": "1b7107fb",
   "metadata": {},
   "outputs": [
    {
     "name": "stdout",
     "output_type": "stream",
     "text": [
      "['apple', 'banana', 'cherry', 'mango', 'pineapple', 'papaya']\n",
      "['apple', 'banana', 'cherry', 'mango', 'pineapple', 'papaya', 'Guvava', 'watermelon']\n"
     ]
    }
   ],
   "source": [
    "mylist = [\"apple\", \"banana\", \"cherry\"]\n",
    "oldlist = [\"mango\", \"pineapple\", \"papaya\"]\n",
    "mylist.extend(oldlist)# this will merge with mylist\n",
    "\n",
    "print(mylist)\n",
    "tuplelist = (\"Guvava\", \"watermelon\")\n",
    "mylist.extend(tuplelist) # this tuple list will merge with mylist\n",
    "print(mylist)"
   ]
  },
  {
   "cell_type": "markdown",
   "id": "22ab66e0",
   "metadata": {},
   "source": [
    "#### Python - Remove List Items"
   ]
  },
  {
   "cell_type": "code",
   "execution_count": 65,
   "id": "e1805c2e",
   "metadata": {},
   "outputs": [
    {
     "name": "stdout",
     "output_type": "stream",
     "text": [
      "['apple', 'cherry', 'papaya', 'mango']\n",
      "['apple', 'papaya', 'mango']\n",
      "['apple', 'papaya']\n",
      "['papaya']\n",
      "[]\n"
     ]
    }
   ],
   "source": [
    "thislist = [\"apple\", \"banana\", \"cherry\", \"papaya\", \"mango\"]\n",
    "thislist.remove(\"banana\") # it will remove banana from the list\n",
    "print(thislist)\n",
    "\n",
    "thislist.pop(1) # this will delete or pop the element form index 1\n",
    "print(thislist) \n",
    "\n",
    "thislist.pop() # this will pop the last element in the list\n",
    "print(thislist)\n",
    "\n",
    "del thislist[0] # this will delete the element from index 0\n",
    "print(thislist)\n",
    "\n",
    "thislist.clear() # this will clear the list prints empty list\n",
    "print(thislist)"
   ]
  },
  {
   "cell_type": "markdown",
   "id": "bdbef931",
   "metadata": {},
   "source": [
    "#### Loop Through a List\n",
    "You can loop through the list items by using a for loop:"
   ]
  },
  {
   "cell_type": "code",
   "execution_count": 66,
   "id": "d9f65a68",
   "metadata": {},
   "outputs": [
    {
     "name": "stdout",
     "output_type": "stream",
     "text": [
      "apple\n",
      "banana\n",
      "cherry\n"
     ]
    }
   ],
   "source": [
    "thislist = [\"apple\", \"banana\", \"cherry\"]\n",
    "for x in thislist:\n",
    "  print(x)"
   ]
  },
  {
   "cell_type": "code",
   "execution_count": 67,
   "id": "fd581b92",
   "metadata": {},
   "outputs": [
    {
     "name": "stdout",
     "output_type": "stream",
     "text": [
      "apple\n",
      "banana\n",
      "cherry\n"
     ]
    }
   ],
   "source": [
    "# Refering to their index numbers [0,1,2]\n",
    "thislist = [\"apple\", \"banana\", \"cherry\"]\n",
    "for i in range(len(thislist)):\n",
    "  print(thislist[i])"
   ]
  },
  {
   "cell_type": "code",
   "execution_count": 68,
   "id": "f8e7a5da",
   "metadata": {},
   "outputs": [
    {
     "name": "stdout",
     "output_type": "stream",
     "text": [
      "apple\n",
      "banana\n",
      "cherry\n"
     ]
    }
   ],
   "source": [
    "# Loop through while loop to go through all the index numbers\n",
    "thislist = [\"apple\", \"banana\", \"cherry\"]\n",
    "i = 0\n",
    "while i < len(thislist):\n",
    "  print(thislist[i])\n",
    "  i = i + 1 #increment by 1 at each iteration"
   ]
  },
  {
   "cell_type": "code",
   "execution_count": 70,
   "id": "8d95636c",
   "metadata": {},
   "outputs": [
    {
     "name": "stdout",
     "output_type": "stream",
     "text": [
      "apple\n",
      "banana\n",
      "cherry\n"
     ]
    },
    {
     "data": {
      "text/plain": [
       "[None, None, None]"
      ]
     },
     "execution_count": 70,
     "metadata": {},
     "output_type": "execute_result"
    }
   ],
   "source": [
    "thislist = [\"apple\", \"banana\", \"cherry\"]\n",
    "[print(x) for x in thislist] # short hand for loop that will print all the list items"
   ]
  },
  {
   "cell_type": "markdown",
   "id": "9a1fefaf",
   "metadata": {},
   "source": [
    "#### Python - List Comprehension"
   ]
  },
  {
   "cell_type": "code",
   "execution_count": 71,
   "id": "9b901ff4",
   "metadata": {},
   "outputs": [
    {
     "name": "stdout",
     "output_type": "stream",
     "text": [
      "['apple', 'banana', 'mango']\n"
     ]
    }
   ],
   "source": [
    "fruits = [\"apple\", \"banana\", \"cherry\", \"kiwi\", \"mango\"]\n",
    "newlist = []\n",
    "\n",
    "for x in fruits:\n",
    "  if \"a\" in x:        # If a is found in any of the list items get added to newlist\n",
    "    newlist.append(x)\n",
    "\n",
    "print(newlist) # prints the newlist"
   ]
  },
  {
   "cell_type": "markdown",
   "id": "bd5b42ab",
   "metadata": {},
   "source": [
    "#### Sort List"
   ]
  },
  {
   "cell_type": "code",
   "execution_count": 74,
   "id": "1b8c4c23",
   "metadata": {},
   "outputs": [
    {
     "name": "stdout",
     "output_type": "stream",
     "text": [
      "['Akash', 'Anand', 'Karthik', 'Vaibhav', 'Vijay', 'Vishnu']\n",
      "['Vishnu', 'Vijay', 'Vaibhav', 'Karthik', 'Anand', 'Akash']\n"
     ]
    }
   ],
   "source": [
    "friends = [\"Akash\", \"Vishnu\", \"Karthik\", \"Vaibhav\", \"Vijay\", \"Anand\"] ## Index 0 = Akash, 1 = vishnu, 2 = karthik\n",
    "friends.sort()\n",
    "print(friends)\n",
    "      \n",
    "friends.sort(reverse = True)\n",
    "print(friends)"
   ]
  }
 ],
 "metadata": {
  "kernelspec": {
   "display_name": "Python 3 (ipykernel)",
   "language": "python",
   "name": "python3"
  },
  "language_info": {
   "codemirror_mode": {
    "name": "ipython",
    "version": 3
   },
   "file_extension": ".py",
   "mimetype": "text/x-python",
   "name": "python",
   "nbconvert_exporter": "python",
   "pygments_lexer": "ipython3",
   "version": "3.10.0"
  }
 },
 "nbformat": 4,
 "nbformat_minor": 5
}
