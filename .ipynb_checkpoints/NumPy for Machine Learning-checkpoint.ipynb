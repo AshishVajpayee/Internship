{
 "cells": [
  {
   "cell_type": "markdown",
   "id": "980c2bd3",
   "metadata": {},
   "source": [
    "### NumPy for Machine Learning\n",
    "- `Numerical analysis` with the NumPy computing package.\n"
   ]
  },
  {
   "cell_type": "markdown",
   "id": "90d00eb2",
   "metadata": {},
   "source": [
    "### Set up\n",
    "- First we'll import the `NumPy` package and set seeds for reproducibility so that we can receive the exact same results every time."
   ]
  },
  {
   "cell_type": "code",
   "execution_count": 1,
   "id": "5c6a8325",
   "metadata": {},
   "outputs": [],
   "source": [
    "import numpy as np"
   ]
  },
  {
   "cell_type": "code",
   "execution_count": 2,
   "id": "a0606cec",
   "metadata": {},
   "outputs": [],
   "source": [
    "# Set seed for reproducibility\n",
    "np.random.seed(seed=1234)"
   ]
  },
  {
   "cell_type": "markdown",
   "id": "b71ae8c4",
   "metadata": {},
   "source": [
    "#### Basics \n",
    "- Scalar (0D tensor) single value\n",
    "- Vector (1D tensor) row or column of values\n",
    "- Matrix (2D tensor) array(rows and columns of values)\n",
    "- 3D tensor, etc"
   ]
  },
  {
   "cell_type": "code",
   "execution_count": 3,
   "id": "9f51a935",
   "metadata": {},
   "outputs": [
    {
     "name": "stdout",
     "output_type": "stream",
     "text": [
      "x:  6\n",
      "x ndim:  0\n",
      "x shape: ()\n",
      "x size:  1\n",
      "x dtype:  int32\n"
     ]
    }
   ],
   "source": [
    "# Scalar\n",
    "x = np.array(6)\n",
    "print (\"x: \", x)\n",
    "print (\"x ndim: \", x.ndim) # number of dimensions\n",
    "print (\"x shape:\", x.shape) # dimensions\n",
    "print (\"x size: \", x.size) # size of elements\n",
    "print (\"x dtype: \", x.dtype) # data type"
   ]
  },
  {
   "cell_type": "code",
   "execution_count": 4,
   "id": "a961292d",
   "metadata": {},
   "outputs": [
    {
     "name": "stdout",
     "output_type": "stream",
     "text": [
      "x:  [1.3 2.2 1.7]\n",
      "x ndim:  1\n",
      "x shape: (3,)\n",
      "x size:  3\n",
      "x dtype:  float64\n"
     ]
    }
   ],
   "source": [
    "# Vector\n",
    "x = np.array([1.3 , 2.2 , 1.7])\n",
    "print (\"x: \", x)\n",
    "print (\"x ndim: \", x.ndim)\n",
    "print (\"x shape:\", x.shape)\n",
    "print (\"x size: \", x.size)\n",
    "print (\"x dtype: \", x.dtype) # notice the float datatype"
   ]
  },
  {
   "cell_type": "code",
   "execution_count": 5,
   "id": "0a7a20f4",
   "metadata": {},
   "outputs": [
    {
     "name": "stdout",
     "output_type": "stream",
     "text": [
      "x:\n",
      " [[1 2]\n",
      " [3 4]]\n",
      "x ndim:  2\n",
      "x shape: (2, 2)\n",
      "x size:  4\n",
      "x dtype:  int32\n"
     ]
    }
   ],
   "source": [
    "# Matrix\n",
    "x = np.array([[1,2], [3,4]])\n",
    "print (\"x:\\n\", x)\n",
    "print (\"x ndim: \", x.ndim)\n",
    "print (\"x shape:\", x.shape)\n",
    "print (\"x size: \", x.size)\n",
    "print (\"x dtype: \", x.dtype)"
   ]
  },
  {
   "cell_type": "code",
   "execution_count": 6,
   "id": "cb95a809",
   "metadata": {},
   "outputs": [
    {
     "name": "stdout",
     "output_type": "stream",
     "text": [
      "x:\n",
      " [[[1 2]\n",
      "  [3 4]]\n",
      "\n",
      " [[5 6]\n",
      "  [7 8]]]\n",
      "x ndim:  3\n",
      "x shape: (2, 2, 2)\n",
      "x size:  8\n",
      "x dtype:  int32\n"
     ]
    }
   ],
   "source": [
    "# 3-D Tensor\n",
    "x = np.array([[[1,2],[3,4]],[[5,6],[7,8]]])\n",
    "print (\"x:\\n\", x)\n",
    "print (\"x ndim: \", x.ndim)\n",
    "print (\"x shape:\", x.shape)\n",
    "print (\"x size: \", x.size)\n",
    "print (\"x dtype: \", x.dtype)"
   ]
  },
  {
   "cell_type": "markdown",
   "id": "8e42dff6",
   "metadata": {},
   "source": [
    "<p>NumPy also comes with several functions that allow us to create tensors quickly.</p>"
   ]
  },
  {
   "cell_type": "code",
   "execution_count": 8,
   "id": "64333c63",
   "metadata": {},
   "outputs": [
    {
     "name": "stdout",
     "output_type": "stream",
     "text": [
      "np.zeros((2,2)):\n",
      " [[0. 0.]\n",
      " [0. 0.]]\n",
      "np.ones((2,2)):\n",
      " [[1. 1.]\n",
      " [1. 1.]]\n",
      "np.eye((2)):\n",
      " [[1. 0.]\n",
      " [0. 1.]]\n",
      "np.random.random((2,2)):\n",
      " [[0.77997581 0.27259261]\n",
      " [0.27646426 0.80187218]]\n"
     ]
    }
   ],
   "source": [
    "# Functions\n",
    "print (\"np.zeros((2,2)):\\n\", np.zeros((2,2))) # prints 2, 2 matrix with 0's\n",
    "print (\"np.ones((2,2)):\\n\", np.ones((2,2))) # prints 2, 2 matrix with 1's\n",
    "print (\"np.eye((2)):\\n\", np.eye((2))) # identity matrix\n",
    "print (\"np.random.random((2,2)):\\n\", np.random.random((2,2))) # prints random 2,2 matrix with random values"
   ]
  },
  {
   "cell_type": "markdown",
   "id": "10b85cb4",
   "metadata": {},
   "source": [
    "### Indexing\n",
    "- We can extract specific values from our tensors using indexing.\n",
    "\n",
    "- Keep in mind that when indexing the row and column, indices start at 0. And like indexing with lists, we can use negative indices as well (where -1 is the last item)."
   ]
  },
  {
   "cell_type": "code",
   "execution_count": 9,
   "id": "d0f0ab1a",
   "metadata": {},
   "outputs": [
    {
     "name": "stdout",
     "output_type": "stream",
     "text": [
      "x:  [1 2 3]\n",
      "x[0]:  1\n",
      "x:  [0 2 3]\n"
     ]
    }
   ],
   "source": [
    "# Indexing\n",
    "x = np.array([1, 2, 3])\n",
    "print (\"x: \", x)\n",
    "print (\"x[0]: \", x[0])\n",
    "x[0] = 0\n",
    "print (\"x: \", x)"
   ]
  },
  {
   "cell_type": "code",
   "execution_count": 11,
   "id": "e09bf0ba",
   "metadata": {},
   "outputs": [
    {
     "name": "stdout",
     "output_type": "stream",
     "text": [
      "[[ 1  2  3  4]\n",
      " [ 5  6  7  8]\n",
      " [ 9 10 11 12]]\n",
      "x column 1:  [ 2  6 10]\n",
      "x row 0:  [1 2 3 4]\n",
      "x rows 0,1 & cols 1,2: \n",
      " [[2 3]\n",
      " [6 7]]\n"
     ]
    }
   ],
   "source": [
    "# Slicing\n",
    "x = np.array([[1,2,3,4], [5,6,7,8], [9,10,11,12]])\n",
    "print (x)\n",
    "print (\"x column 1: \", x[:, 1]) # prints the values of column 1\n",
    "print (\"x row 0: \", x[0, :])  # prints the values of row 0\n",
    "print (\"x rows 0,1 & cols 1,2: \\n\", x[0:2, 1:3]) # little confusing"
   ]
  },
  {
   "cell_type": "code",
   "execution_count": 12,
   "id": "2f0db5d0",
   "metadata": {},
   "outputs": [
    {
     "name": "stdout",
     "output_type": "stream",
     "text": [
      "[[ 1  2  3  4]\n",
      " [ 5  6  7  8]\n",
      " [ 9 10 11 12]]\n",
      "rows_to_get:  [0 1 2]\n",
      "cols_to_get:  [0 2 1]\n",
      "indexed values:  [ 1  7 10]\n"
     ]
    }
   ],
   "source": [
    "# Integer array indexing\n",
    "print (x)\n",
    "rows_to_get = np.array([0, 1, 2])\n",
    "print (\"rows_to_get: \", rows_to_get)\n",
    "cols_to_get = np.array([0, 2, 1])\n",
    "print (\"cols_to_get: \", cols_to_get)\n",
    "# Combine sequences above to get values to get\n",
    "print (\"indexed values: \", x[rows_to_get, cols_to_get]) # (0, 0), (1, 2), (2, 1)"
   ]
  },
  {
   "cell_type": "code",
   "execution_count": 13,
   "id": "6e89a186",
   "metadata": {},
   "outputs": [
    {
     "name": "stdout",
     "output_type": "stream",
     "text": [
      "x:\n",
      " [[1 2]\n",
      " [3 4]\n",
      " [5 6]]\n",
      "x > 2:\n",
      " [[False False]\n",
      " [ True  True]\n",
      " [ True  True]]\n",
      "x[x > 2]:\n",
      " [3 4 5 6]\n"
     ]
    }
   ],
   "source": [
    "# Boolean array indexing\n",
    "x = np.array([[1, 2], [3, 4], [5, 6]])\n",
    "print (\"x:\\n\", x)\n",
    "print (\"x > 2:\\n\", x > 2)\n",
    "print (\"x[x > 2]:\\n\", x[x > 2])"
   ]
  },
  {
   "cell_type": "markdown",
   "id": "22103daf",
   "metadata": {},
   "source": [
    "### Arithmetic"
   ]
  },
  {
   "cell_type": "code",
   "execution_count": 14,
   "id": "159c6f75",
   "metadata": {},
   "outputs": [
    {
     "name": "stdout",
     "output_type": "stream",
     "text": [
      "x + y:\n",
      " [[2. 4.]\n",
      " [6. 8.]]\n",
      "x - y:\n",
      " [[0. 0.]\n",
      " [0. 0.]]\n",
      "x * y:\n",
      " [[ 1.  4.]\n",
      " [ 9. 16.]]\n"
     ]
    }
   ],
   "source": [
    "# Basic math\n",
    "x = np.array([[1,2], [3,4]], dtype=np.float64)\n",
    "y = np.array([[1,2], [3,4]], dtype=np.float64)\n",
    "print (\"x + y:\\n\", np.add(x, y)) # or x + y example (1 + 1), (2 + 2) = [2. 4.]\n",
    "print (\"x - y:\\n\", np.subtract(x, y)) # or x - y\n",
    "print (\"x * y:\\n\", np.multiply(x, y)) # or x * y"
   ]
  },
  {
   "cell_type": "markdown",
   "id": "ae3bcdb9",
   "metadata": {},
   "source": [
    "### Dot product\n",
    "One of the most common NumPy operations we’ll use in machine learning is matrix multiplication using the dot product. Suppose we wanted to take the dot product of two matrices with shapes `[2 X 3]` and `[3 X 2]`. We take the rows of our first matrix (2) and the columns of our second matrix (2) to determine the dot product, giving us an output of `[2 X 2]`. The only requirement is that the inside dimensions match, in this case the first matrix has 3 columns and the second matrix has 3 rows."
   ]
  },
  {
   "cell_type": "code",
   "execution_count": 15,
   "id": "45b2c132",
   "metadata": {},
   "outputs": [
    {
     "name": "stdout",
     "output_type": "stream",
     "text": [
      "(2, 3) · (3, 2) = (2, 2)\n",
      "[[ 58.  64.]\n",
      " [139. 154.]]\n"
     ]
    }
   ],
   "source": [
    "# Dot product\n",
    "a = np.array([[1,2,3], [4,5,6]], dtype=np.float64) # we can specify dtype\n",
    "b = np.array([[7,8], [9,10], [11, 12]], dtype=np.float64)\n",
    "c = a.dot(b)\n",
    "print (f\"{a.shape} · {b.shape} = {c.shape}\")\n",
    "print (c)"
   ]
  },
  {
   "cell_type": "markdown",
   "id": "711ee3b6",
   "metadata": {},
   "source": [
    "### Axis operations\n",
    "We can also do operations across a specific axis"
   ]
  },
  {
   "cell_type": "code",
   "execution_count": 16,
   "id": "87458513",
   "metadata": {},
   "outputs": [
    {
     "name": "stdout",
     "output_type": "stream",
     "text": [
      "[[1 2]\n",
      " [3 4]]\n",
      "sum all:  10\n",
      "sum axis=0:  [4 6]\n",
      "sum axis=1:  [3 7]\n"
     ]
    }
   ],
   "source": [
    "# Sum across a dimension\n",
    "x = np.array([[1,2],[3,4]])\n",
    "print (x)\n",
    "print (\"sum all: \", np.sum(x)) # adds all elements 1+2+3+4 = 10\n",
    "print (\"sum axis=0: \", np.sum(x, axis=0)) # sum across rows 1+3 = 4, 2+4 = 6\n",
    "print (\"sum axis=1: \", np.sum(x, axis=1)) # sum across columns 1+2 = 3, 2+4=7"
   ]
  },
  {
   "cell_type": "markdown",
   "id": "59a24eed",
   "metadata": {},
   "source": [
    "### Broadcast\n",
    "What happens when we try to do operations with tensors with seemingly incompatible shapes? Their dimensions aren’t compatible as is but how does NumPy still gives us the right result? This is where broadcasting comes in. The scalar is broadcast across the vector so that they have compatible shapes."
   ]
  },
  {
   "cell_type": "code",
   "execution_count": 17,
   "id": "61620425",
   "metadata": {},
   "outputs": [
    {
     "name": "stdout",
     "output_type": "stream",
     "text": [
      "z:\n",
      " [4 5]\n"
     ]
    }
   ],
   "source": [
    "# Broadcasting\n",
    "x = np.array([1,2]) # vector\n",
    "y = np.array(3) # scalar\n",
    "z = x + y\n",
    "print (\"z:\\n\", z)"
   ]
  },
  {
   "cell_type": "markdown",
   "id": "9aa45699",
   "metadata": {},
   "source": [
    "### Gotchas\n",
    "- In the situation below, what is the value of **`c`** and what are its dimensions?"
   ]
  },
  {
   "cell_type": "code",
   "execution_count": 18,
   "id": "42a6d529",
   "metadata": {},
   "outputs": [],
   "source": [
    "a = np.array((3, 4, 5))\n",
    "b = np.expand_dims(a, axis=1)\n",
    "c = a + b"
   ]
  },
  {
   "cell_type": "code",
   "execution_count": 19,
   "id": "ce883795",
   "metadata": {},
   "outputs": [
    {
     "name": "stdout",
     "output_type": "stream",
     "text": [
      "[[ 6  7  8]\n",
      " [ 7  8  9]\n",
      " [ 8  9 10]]\n"
     ]
    }
   ],
   "source": [
    "a.shape # (3,)\n",
    "b.shape # (3, 1)\n",
    "c.shape # (3, 3)\n",
    "print (c)"
   ]
  },
  {
   "cell_type": "markdown",
   "id": "08c98341",
   "metadata": {},
   "source": [
    "### Transpose\n",
    "We often need to change the dimensions of our tensors for operations like the dot product. If we need to switch two dimensions, we can transpose the tensor."
   ]
  },
  {
   "cell_type": "code",
   "execution_count": 20,
   "id": "eefc67f5",
   "metadata": {},
   "outputs": [
    {
     "name": "stdout",
     "output_type": "stream",
     "text": [
      "x:\n",
      " [[1 2 3]\n",
      " [4 5 6]]\n",
      "x.shape:  (2, 3)\n",
      "y:\n",
      " [[1 4]\n",
      " [2 5]\n",
      " [3 6]]\n",
      "y.shape:  (3, 2)\n"
     ]
    }
   ],
   "source": [
    "# Transposing\n",
    "x = np.array([[1,2,3], [4,5,6]])\n",
    "print (\"x:\\n\", x)\n",
    "print (\"x.shape: \", x.shape)\n",
    "y = np.transpose(x, (1,0)) # flip dimensions at index 0 and 1\n",
    "print (\"y:\\n\", y)\n",
    "print (\"y.shape: \", y.shape)"
   ]
  },
  {
   "cell_type": "markdown",
   "id": "0150fdea",
   "metadata": {},
   "source": [
    "### Reshape\n",
    "Sometimes, we'll need to alter the dimensions of the matrix. Reshaping allows us to transform a tensor into different permissible shapes. Below, our reshaped tensor has the same number of values as the original tensor. (`1X6` = `2X3`). We can also use `-1` on a dimension and `NumPy` will infer the dimension based on our input tensor.\n"
   ]
  },
  {
   "cell_type": "code",
   "execution_count": 21,
   "id": "2e6b95bf",
   "metadata": {},
   "outputs": [
    {
     "name": "stdout",
     "output_type": "stream",
     "text": [
      "[[1 2 3 4 5 6]]\n",
      "x.shape:  (1, 6)\n",
      "y: \n",
      " [[1 2 3]\n",
      " [4 5 6]]\n",
      "y.shape:  (2, 3)\n",
      "z: \n",
      " [[1 2 3]\n",
      " [4 5 6]]\n",
      "z.shape:  (2, 3)\n"
     ]
    }
   ],
   "source": [
    "# Reshaping\n",
    "x = np.array([[1,2,3,4,5,6]])\n",
    "print (x)\n",
    "print (\"x.shape: \", x.shape)\n",
    "\n",
    "y = np.reshape(x, (2, 3)) # reshapes 2 x 3 matrix\n",
    "print (\"y: \\n\", y)\n",
    "print (\"y.shape: \", y.shape) \n",
    "\n",
    "z = np.reshape(x, (2, -1)) # -1 takes last value i.e, 3\n",
    "print (\"z: \\n\", z)\n",
    "print (\"z.shape: \", z.shape)"
   ]
  },
  {
   "cell_type": "markdown",
   "id": "335de53d",
   "metadata": {},
   "source": [
    "### Joining\n",
    "We can also join our tensors via [concatentation](https://numpy.org/doc/stable/reference/generated/numpy.concatenate.html) or [stacking](https://numpy.org/doc/stable/reference/generated/numpy.stack.html) ."
   ]
  },
  {
   "cell_type": "code",
   "execution_count": 22,
   "id": "0158ae99",
   "metadata": {},
   "outputs": [
    {
     "name": "stdout",
     "output_type": "stream",
     "text": [
      "[[0.95813935 0.87593263 0.35781727]\n",
      " [0.50099513 0.68346294 0.71270203]]\n",
      "(2, 3)\n"
     ]
    }
   ],
   "source": [
    "x = np.random.random((2, 3))\n",
    "print (x)\n",
    "print (x.shape)"
   ]
  },
  {
   "cell_type": "code",
   "execution_count": 23,
   "id": "6a38749f",
   "metadata": {},
   "outputs": [
    {
     "name": "stdout",
     "output_type": "stream",
     "text": [
      "[[0.95813935 0.87593263 0.35781727]\n",
      " [0.50099513 0.68346294 0.71270203]\n",
      " [0.95813935 0.87593263 0.35781727]\n",
      " [0.50099513 0.68346294 0.71270203]]\n",
      "(4, 3)\n"
     ]
    }
   ],
   "source": [
    "# Concatenation\n",
    "y = np.concatenate([x, x], axis=0) # concat on a specified axis\n",
    "print (y)\n",
    "print (y.shape)"
   ]
  },
  {
   "cell_type": "code",
   "execution_count": 24,
   "id": "7492d6fd",
   "metadata": {},
   "outputs": [
    {
     "name": "stdout",
     "output_type": "stream",
     "text": [
      "[[[0.95813935 0.87593263 0.35781727]\n",
      "  [0.50099513 0.68346294 0.71270203]]\n",
      "\n",
      " [[0.95813935 0.87593263 0.35781727]\n",
      "  [0.50099513 0.68346294 0.71270203]]]\n",
      "(2, 2, 3)\n"
     ]
    }
   ],
   "source": [
    "# Stacking\n",
    "z = np.stack([x, x], axis=0) # stack on new axis\n",
    "print (z)\n",
    "print (z.shape)"
   ]
  },
  {
   "cell_type": "markdown",
   "id": "25eec725",
   "metadata": {},
   "source": [
    "### Expanding / reducing\n",
    "We can also easily add and remove dimensions to our tensors and we'll want to do this to make tensors compatible for certain operations."
   ]
  },
  {
   "cell_type": "code",
   "execution_count": 25,
   "id": "4de67270",
   "metadata": {},
   "outputs": [
    {
     "name": "stdout",
     "output_type": "stream",
     "text": [
      "x:\n",
      " [[1 2 3]\n",
      " [4 5 6]]\n",
      "x.shape:  (2, 3)\n",
      "y: \n",
      " [[[1 2 3]]\n",
      "\n",
      " [[4 5 6]]]\n",
      "y.shape:  (2, 1, 3)\n"
     ]
    }
   ],
   "source": [
    "# Adding dimensions\n",
    "x = np.array([[1,2,3],[4,5,6]]) # 2x3 matrix\n",
    "print (\"x:\\n\", x)\n",
    "print (\"x.shape: \", x.shape)\n",
    "y = np.expand_dims(x, 1) # expand dim 1\n",
    "print (\"y: \\n\", y)\n",
    "print (\"y.shape: \", y.shape)   # notice extra set of brackets are added"
   ]
  },
  {
   "cell_type": "code",
   "execution_count": 26,
   "id": "fda913a4",
   "metadata": {},
   "outputs": [
    {
     "name": "stdout",
     "output_type": "stream",
     "text": [
      "x:\n",
      " [[[1 2 3]]\n",
      "\n",
      " [[4 5 6]]]\n",
      "x.shape:  (2, 1, 3)\n",
      "y: \n",
      " [[1 2 3]\n",
      " [4 5 6]]\n",
      "y.shape:  (2, 3)\n"
     ]
    }
   ],
   "source": [
    "# Removing dimensions\n",
    "x = np.array([[[1,2,3]],[[4,5,6]]])\n",
    "print (\"x:\\n\", x)\n",
    "print (\"x.shape: \", x.shape)\n",
    "y = np.squeeze(x, 1) # squeeze dim 1\n",
    "print (\"y: \\n\", y)\n",
    "print (\"y.shape: \", y.shape)  # notice extra set of brackets are gone"
   ]
  },
  {
   "cell_type": "markdown",
   "id": "7f74e03f",
   "metadata": {},
   "source": [
    "```@article{madewithml,\n",
    "    author       = {Goku Mohandas},\n",
    "    title        = { NumPy - Made With ML },\n",
    "    howpublished = {\\url{https://madewithml.com/}},\n",
    "    year         = {2021}\n",
    "}\n",
    "```"
   ]
  }
 ],
 "metadata": {
  "kernelspec": {
   "display_name": "Python 3 (ipykernel)",
   "language": "python",
   "name": "python3"
  },
  "language_info": {
   "codemirror_mode": {
    "name": "ipython",
    "version": 3
   },
   "file_extension": ".py",
   "mimetype": "text/x-python",
   "name": "python",
   "nbconvert_exporter": "python",
   "pygments_lexer": "ipython3",
   "version": "3.10.0"
  }
 },
 "nbformat": 4,
 "nbformat_minor": 5
}
