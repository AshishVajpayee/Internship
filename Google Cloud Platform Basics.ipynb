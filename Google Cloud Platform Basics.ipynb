{
 "cells": [
  {
   "cell_type": "markdown",
   "id": "f0f40348",
   "metadata": {},
   "source": [
    "# Google Cloud"
   ]
  },
  {
   "cell_type": "markdown",
   "id": "14601943",
   "metadata": {},
   "source": [
    "**Google Cloud can be divided into four categories**\n",
    "- Compute\n",
    "- Storage\n",
    "- Big Data\n",
    "- AI/ML\n",
    "<hr>"
   ]
  },
  {
   "cell_type": "markdown",
   "id": "fc3f9f70",
   "metadata": {},
   "source": [
    "**Compute divided into four categories**\n",
    "- Compute Engine\n",
    "- Kubernetes Engine\n",
    "- App Engine\n",
    "- Cloud Functions\n",
    "\n",
    "`Compute Engine` Compute Engines delivers configurable `virtual machines` running in Google's data centers.\n",
    "\n",
    "`Kubernetes Engine` Google Kubernetes Engine`(GKE)` Runs containarized applications on a secured and managed Kubernetes service.\n",
    "\n",
    "`App Engine` Google App Engine Build highly scalable applications on a fully managed serverless platform.  \n",
    "- Application Engine where we can deploy web applications and large scale applications.\n",
    "\n",
    "`Cloud Functions` Google Cloud Engine Runs light weight single functions.\n",
    "<hr>"
   ]
  },
  {
   "cell_type": "markdown",
   "id": "cc2a2464",
   "metadata": {},
   "source": [
    "**Storage has various categories**\n",
    "- Cloud Bigtable\n",
    "- Cloud Storage\n",
    "- Cloud SQL\n",
    "- Cloud Spanner\n",
    "- Cloud Datastore\n",
    "\n",
    "`Cloud Bigtable` Google Cloud Bigtable is a peta-byte scale, fully managed NoSQL database services for BIG DATA\n",
    "\n",
    "`Cloud Storage` Google Cloud storage is a Object Storage for storing all kinds of objects files, images, videos, logs etc..\n",
    "\n",
    "`Cloud SQL` Cloud SQL is a fully managed database service that makes it easy to set up, maintain, manage and administer your relational database on Google Cloud Platform.\n",
    "\n",
    "`Cloud Spanner` Cloud is Fully managed Relational database strucutre with Big Data database like performance. We can also call it's a subset of Cloud SQL.\n",
    "\n",
    "`Cloud Datastore` Cloud Datastore is a highly-scalable NoSQL database for your web and mobile applications which supports **ACID transactions, SQL-like queries, Indexes etc**\n",
    "\n",
    "<hr>"
   ]
  },
  {
   "cell_type": "markdown",
   "id": "5bbaacd2",
   "metadata": {},
   "source": [
    "**BIG DATA**\n",
    "- BigQuery\n",
    "- Cloud Pub/Sub\n",
    "- Cloud Dataflow\n",
    "- Cloud Data Catalog\n",
    "\n",
    "`BigQuery` Google BigQuery is a serverless, highly scalable, and cost-effective cloud data warehouse designed to help taking business decisions. (Data Analytics, Data lake)\n",
    "\n",
    "`Cloud Pub/Sub` Pub/Sub is a Global messaging and event data ingestion from external sources to GCP. (streaming or live data)\n",
    "\n",
    "`Cloud Dataflow` ETL\n",
    "\n",
    "`Cloud Data Catalog` (Metadata Management Service) Discover, Manage, and understand all your data in Google Cloud.\n",
    "<hr>"
   ]
  },
  {
   "cell_type": "markdown",
   "id": "aac46ea1",
   "metadata": {},
   "source": [
    "**AI/ML**\n",
    "- Cloud Natural Language API\n",
    "- Cloud Vision API\n",
    "- Speech API\n",
    "- Translate API\n",
    "\n",
    "`Natual Language API` Derive insights from unstructured text using Google machine learning. (ex: sentiment analysis, social media ex twitter)\n",
    "\n",
    "`Cloud Vision API` Derive insights from your images in the cloud.\n",
    "\n",
    "`Speech API` Speech-to-Text Text-to-speech conversion using machine learning.\n",
    "\n",
    "`Translate API` helps to convert one particular lanaguage to another.\n",
    "<hr>"
   ]
  }
 ],
 "metadata": {
  "kernelspec": {
   "display_name": "Python 3 (ipykernel)",
   "language": "python",
   "name": "python3"
  },
  "language_info": {
   "codemirror_mode": {
    "name": "ipython",
    "version": 3
   },
   "file_extension": ".py",
   "mimetype": "text/x-python",
   "name": "python",
   "nbconvert_exporter": "python",
   "pygments_lexer": "ipython3",
   "version": "3.10.0"
  }
 },
 "nbformat": 4,
 "nbformat_minor": 5
}
